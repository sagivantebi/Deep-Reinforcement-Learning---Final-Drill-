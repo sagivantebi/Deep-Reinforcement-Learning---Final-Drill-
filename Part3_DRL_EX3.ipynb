{
  "cells": [
    {
      "cell_type": "markdown",
      "source": [
        "#Section 3 - Transfer learning"
      ],
      "metadata": {
        "id": "SzSVUB7Gd3do"
      }
    },
    {
      "cell_type": "markdown",
      "source": [
        "## Imports"
      ],
      "metadata": {
        "id": "T1jPkhoZyl-X"
      }
    },
    {
      "cell_type": "code",
      "execution_count": null,
      "metadata": {
        "id": "mwXpsu987_Wr"
      },
      "outputs": [],
      "source": [
        "import gym\n",
        "import numpy as np\n",
        "import tensorflow.compat.v1 as tf\n",
        "import collections\n",
        "import torch.nn as nn\n",
        "import torch\n",
        "import torch.nn.functional as F\n",
        "import torch.optim.lr_scheduler as lr_scheduler\n",
        "from torch.distributions import Categorical\n",
        "import torch.optim as optim\n",
        "import matplotlib.pyplot as plt\n",
        "import random"
      ]
    },
    {
      "cell_type": "code",
      "source": [
        "device = torch.device(\"cuda\" if torch.cuda.is_available() else \"cpu\")"
      ],
      "metadata": {
        "id": "guL7zgL3v8XO",
        "colab": {
          "base_uri": "https://localhost:8080/"
        },
        "outputId": "ca37e7ae-1348-4eec-f6c9-32bb5f912635"
      },
      "execution_count": null,
      "outputs": [
        {
          "output_type": "stream",
          "name": "stderr",
          "text": [
            "/usr/local/lib/python3.10/dist-packages/ipykernel/ipkernel.py:283: DeprecationWarning: `should_run_async` will not call `transform_cell` automatically in the future. Please pass the result to `transformed_cell` argument and any exception that happen during thetransform in `preprocessing_exc_tuple` in IPython 7.17 and above.\n",
            "  and should_run_async(code)\n"
          ]
        }
      ]
    },
    {
      "cell_type": "code",
      "source": [
        "def pad_state2(state, max_state_size):\n",
        "    padded_state = np.zeros((max_state_size))\n",
        "    padded_state[ :state.shape[0]] = state\n",
        "    return padded_state"
      ],
      "metadata": {
        "id": "pmrRY66kiFEA"
      },
      "execution_count": null,
      "outputs": []
    },
    {
      "cell_type": "code",
      "execution_count": null,
      "metadata": {
        "id": "oZYgEeNz8XCc"
      },
      "outputs": [],
      "source": [
        "def pad_state(state, max_state_size):\n",
        "    padded_state = np.zeros((1, max_state_size))\n",
        "    padded_state[:, :state.shape[1]] = state\n",
        "    return padded_state"
      ]
    },
    {
      "cell_type": "code",
      "source": [
        "from collections import namedtuple\n",
        "SavedAction = namedtuple('SavedAction', ['log_prob', 'value'])"
      ],
      "metadata": {
        "id": "hvgykKJxfMSh"
      },
      "execution_count": null,
      "outputs": []
    },
    {
      "cell_type": "code",
      "source": [
        "from torch.distributions import Categorical\n",
        "from torch.distributions import Categorical"
      ],
      "metadata": {
        "id": "jBTgJsY2eL5g"
      },
      "execution_count": null,
      "outputs": []
    },
    {
      "cell_type": "markdown",
      "source": [
        "##{acrobot, mountainCar} -> cartpole"
      ],
      "metadata": {
        "id": "uBirAhEAeJN4"
      }
    },
    {
      "cell_type": "markdown",
      "source": [
        "###Acrobot"
      ],
      "metadata": {
        "id": "xFw33FnjwJdp"
      }
    },
    {
      "cell_type": "code",
      "source": [
        "\n",
        "class ActorCritic2(nn.Module):\n",
        "    def __init__(self):\n",
        "        super(ActorCritic2, self).__init__()\n",
        "        self.fc1 = nn.Linear(6, 12) # 4 because there are 4 parameters as the observation space\n",
        "        self.fc2 = nn.Linear(12, 18)\n",
        "        self.actor = nn.Linear(18, 3) # 2 for the number of actions\n",
        "        self.critic = nn.Linear(18, 1) # Critic is always 1\n",
        "        self.saved_actions = []\n",
        "        self.rewards = []\n",
        "    def forward(self, x):\n",
        "        x = F.relu(self.fc1(x))\n",
        "        x = F.relu(self.fc2(x))\n",
        "        action_prob = F.softmax(self.actor(x), dim=-1)\n",
        "        state_values = self.critic(x)\n",
        "        return action_prob, state_values"
      ],
      "metadata": {
        "id": "trvsS19zwMB0"
      },
      "execution_count": null,
      "outputs": []
    },
    {
      "cell_type": "code",
      "source": [
        "def select_action(state):\n",
        "    state = torch.from_numpy(state).float()\n",
        "    probs, state_value = model2(state)\n",
        "    probs_copy = probs.clone()  # Make a copy of the tensor\n",
        "    #probs_copy[2] = 0\n",
        "    m = Categorical(probs_copy)\n",
        "    action = m.sample()\n",
        "    model2.saved_actions.append((m.log_prob(action), state_value))\n",
        "    return action.item()"
      ],
      "metadata": {
        "id": "p846nv0GwMB0"
      },
      "execution_count": null,
      "outputs": []
    },
    {
      "cell_type": "code",
      "source": [
        "def finish_episode():\n",
        "    # We calculate the losses and perform backprop in this function\n",
        "    R = 0\n",
        "    saved_actions = model2.saved_actions\n",
        "    policy_losses = []\n",
        "    value_losses =[]\n",
        "    returns = []\n",
        "\n",
        "    for r in model2.rewards[::-1]:\n",
        "        R = r + 0.99 * R # 0.99 is our gamma number\n",
        "        returns.insert(0, R)\n",
        "    returns = torch.tensor(returns)\n",
        "    returns = (returns - returns.mean()) / (returns.std() + eps)\n",
        "\n",
        "    for (log_prob, value), R in zip(saved_actions, returns):\n",
        "        advantage = R - value.item()\n",
        "\n",
        "        policy_losses.append(-log_prob * advantage)\n",
        "        value_losses.append(F.smooth_l1_loss(value, torch.tensor([R])))\n",
        "\n",
        "    optimizer.zero_grad()\n",
        "    loss = torch.stack(policy_losses).sum() + torch.stack(value_losses).sum()\n",
        "\n",
        "    loss.backward()\n",
        "    optimizer.step()\n",
        "\n",
        "    del model2.rewards[:]\n",
        "    del model2.saved_actions[:]"
      ],
      "metadata": {
        "id": "WMmpMAcowMB1"
      },
      "execution_count": null,
      "outputs": []
    },
    {
      "cell_type": "code",
      "source": [
        "def train(model2,env,):\n",
        "    rewards=[]\n",
        "    avg_rewards=[]\n",
        "    running_reward = 0\n",
        "    for i_episode in range(3000): # We need around this many episodes\n",
        "        state = env.reset()\n",
        "        ep_reward = 0\n",
        "        for t in range(1, 501):\n",
        "            state_tensor = pad_state2(state, 6)\n",
        "            #state_tensor = torch.from_numpy(state_tensor).float()\n",
        "            action = select_action(state_tensor)\n",
        "\n",
        "            state, reward, done, _ = env.step(action)\n",
        "            state_tensor = torch.from_numpy(state).float()  # Convert state to tensor\n",
        "            state_tensor = pad_state2(state_tensor, 6)\n",
        "            model2.rewards.append(reward)\n",
        "            ep_reward += reward\n",
        "            if done:\n",
        "                break\n",
        "        rewards.append(ep_reward)\n",
        "        if i_episode>=100:\n",
        "          running_reward = np.mean(rewards[-100:])\n",
        "        avg_rewards.append(running_reward)\n",
        "        finish_episode()\n",
        "        if i_episode % 25 == 0: # We will print some things out\n",
        "            print(\"Episode {}\\tLast Reward: {:.2f}\\tAverage reward_per_100_epochs: {:.2f}\".format(\n",
        "                i_episode, ep_reward, running_reward\n",
        "            ))\n",
        "        # if running_reward > env.spec.reward_threshold:\n",
        "        #     print(\"Solved, running reward is now {} and the last episode runs to {} time steps\".format(\n",
        "        #             running_reward, t\n",
        "        #     ))\n",
        "        #     break\n",
        "            # This means that we solved cartpole and training is complete\n",
        "    return rewards, avg_rewards"
      ],
      "metadata": {
        "id": "oXEQ1DJnwMB1"
      },
      "execution_count": null,
      "outputs": []
    },
    {
      "cell_type": "code",
      "source": [
        "model2 = ActorCritic2()\n",
        "env = gym.make('Acrobot-v1')\n",
        "optimizer = optim.Adam(model2.parameters(), lr=6e-3)\n",
        "eps = np.finfo(np.float32).eps.item()\n",
        "rewards=train(model2,env)"
      ],
      "metadata": {
        "colab": {
          "base_uri": "https://localhost:8080/"
        },
        "outputId": "ac7c78c1-c3f3-44d8-bcc6-eb6b160c009e",
        "id": "VvWGOydewMB2"
      },
      "execution_count": null,
      "outputs": [
        {
          "output_type": "stream",
          "name": "stderr",
          "text": [
            "/usr/local/lib/python3.10/dist-packages/gym/core.py:317: DeprecationWarning: \u001b[33mWARN: Initializing wrapper in old step API which returns one bool instead of two. It is recommended to set `new_step_api=True` to use new step API. This will be the default behaviour in future.\u001b[0m\n",
            "  deprecation(\n",
            "/usr/local/lib/python3.10/dist-packages/gym/wrappers/step_api_compatibility.py:39: DeprecationWarning: \u001b[33mWARN: Initializing environment in old step API which returns one bool instead of two. It is recommended to set `new_step_api=True` to use new step API. This will be the default behaviour in future.\u001b[0m\n",
            "  deprecation(\n"
          ]
        },
        {
          "output_type": "stream",
          "name": "stdout",
          "text": [
            "Episode 0\tLast Reward: -500.00\tAverage reward_per_100_epochs: 0.00\n",
            "Episode 25\tLast Reward: -500.00\tAverage reward_per_100_epochs: 0.00\n",
            "Episode 50\tLast Reward: -473.00\tAverage reward_per_100_epochs: 0.00\n",
            "Episode 75\tLast Reward: -500.00\tAverage reward_per_100_epochs: 0.00\n",
            "Episode 100\tLast Reward: -500.00\tAverage reward_per_100_epochs: -498.90\n",
            "Episode 125\tLast Reward: -500.00\tAverage reward_per_100_epochs: -496.60\n",
            "Episode 150\tLast Reward: -500.00\tAverage reward_per_100_epochs: -496.87\n",
            "Episode 175\tLast Reward: -500.00\tAverage reward_per_100_epochs: -496.23\n",
            "Episode 200\tLast Reward: -500.00\tAverage reward_per_100_epochs: -497.06\n",
            "Episode 225\tLast Reward: -500.00\tAverage reward_per_100_epochs: -499.36\n",
            "Episode 250\tLast Reward: -500.00\tAverage reward_per_100_epochs: -498.74\n",
            "Episode 275\tLast Reward: -500.00\tAverage reward_per_100_epochs: -497.65\n",
            "Episode 300\tLast Reward: -470.00\tAverage reward_per_100_epochs: -490.43\n",
            "Episode 325\tLast Reward: -500.00\tAverage reward_per_100_epochs: -481.38\n",
            "Episode 350\tLast Reward: -500.00\tAverage reward_per_100_epochs: -473.55\n",
            "Episode 375\tLast Reward: -500.00\tAverage reward_per_100_epochs: -458.63\n",
            "Episode 400\tLast Reward: -265.00\tAverage reward_per_100_epochs: -435.21\n",
            "Episode 425\tLast Reward: -278.00\tAverage reward_per_100_epochs: -403.59\n",
            "Episode 450\tLast Reward: -243.00\tAverage reward_per_100_epochs: -370.52\n",
            "Episode 475\tLast Reward: -423.00\tAverage reward_per_100_epochs: -325.17\n",
            "Episode 500\tLast Reward: -362.00\tAverage reward_per_100_epochs: -301.26\n",
            "Episode 525\tLast Reward: -138.00\tAverage reward_per_100_epochs: -273.16\n",
            "Episode 550\tLast Reward: -200.00\tAverage reward_per_100_epochs: -241.48\n",
            "Episode 575\tLast Reward: -225.00\tAverage reward_per_100_epochs: -228.16\n",
            "Episode 600\tLast Reward: -217.00\tAverage reward_per_100_epochs: -202.69\n",
            "Episode 625\tLast Reward: -181.00\tAverage reward_per_100_epochs: -187.62\n",
            "Episode 650\tLast Reward: -156.00\tAverage reward_per_100_epochs: -177.76\n",
            "Episode 675\tLast Reward: -204.00\tAverage reward_per_100_epochs: -167.75\n",
            "Episode 700\tLast Reward: -158.00\tAverage reward_per_100_epochs: -162.47\n",
            "Episode 725\tLast Reward: -149.00\tAverage reward_per_100_epochs: -158.28\n",
            "Episode 750\tLast Reward: -183.00\tAverage reward_per_100_epochs: -156.40\n",
            "Episode 775\tLast Reward: -109.00\tAverage reward_per_100_epochs: -153.66\n",
            "Episode 800\tLast Reward: -116.00\tAverage reward_per_100_epochs: -148.46\n",
            "Episode 825\tLast Reward: -97.00\tAverage reward_per_100_epochs: -149.24\n",
            "Episode 850\tLast Reward: -102.00\tAverage reward_per_100_epochs: -142.60\n",
            "Episode 875\tLast Reward: -131.00\tAverage reward_per_100_epochs: -138.19\n",
            "Episode 900\tLast Reward: -101.00\tAverage reward_per_100_epochs: -138.39\n",
            "Episode 925\tLast Reward: -100.00\tAverage reward_per_100_epochs: -133.39\n",
            "Episode 950\tLast Reward: -108.00\tAverage reward_per_100_epochs: -133.84\n",
            "Episode 975\tLast Reward: -148.00\tAverage reward_per_100_epochs: -137.50\n",
            "Episode 1000\tLast Reward: -208.00\tAverage reward_per_100_epochs: -135.00\n",
            "Episode 1025\tLast Reward: -122.00\tAverage reward_per_100_epochs: -134.39\n",
            "Episode 1050\tLast Reward: -141.00\tAverage reward_per_100_epochs: -131.18\n",
            "Episode 1075\tLast Reward: -97.00\tAverage reward_per_100_epochs: -122.75\n",
            "Episode 1100\tLast Reward: -120.00\tAverage reward_per_100_epochs: -116.29\n",
            "Episode 1125\tLast Reward: -128.00\tAverage reward_per_100_epochs: -112.60\n",
            "Episode 1150\tLast Reward: -103.00\tAverage reward_per_100_epochs: -110.26\n",
            "Episode 1175\tLast Reward: -127.00\tAverage reward_per_100_epochs: -112.98\n",
            "Episode 1200\tLast Reward: -122.00\tAverage reward_per_100_epochs: -119.60\n",
            "Episode 1225\tLast Reward: -122.00\tAverage reward_per_100_epochs: -122.63\n",
            "Episode 1250\tLast Reward: -131.00\tAverage reward_per_100_epochs: -123.59\n",
            "Episode 1275\tLast Reward: -98.00\tAverage reward_per_100_epochs: -123.71\n",
            "Episode 1300\tLast Reward: -86.00\tAverage reward_per_100_epochs: -118.97\n",
            "Episode 1325\tLast Reward: -124.00\tAverage reward_per_100_epochs: -116.60\n",
            "Episode 1350\tLast Reward: -114.00\tAverage reward_per_100_epochs: -113.50\n",
            "Episode 1375\tLast Reward: -107.00\tAverage reward_per_100_epochs: -111.19\n",
            "Episode 1400\tLast Reward: -94.00\tAverage reward_per_100_epochs: -111.79\n",
            "Episode 1425\tLast Reward: -95.00\tAverage reward_per_100_epochs: -111.70\n",
            "Episode 1450\tLast Reward: -128.00\tAverage reward_per_100_epochs: -112.63\n",
            "Episode 1475\tLast Reward: -165.00\tAverage reward_per_100_epochs: -111.62\n",
            "Episode 1500\tLast Reward: -136.00\tAverage reward_per_100_epochs: -110.76\n",
            "Episode 1525\tLast Reward: -91.00\tAverage reward_per_100_epochs: -109.12\n",
            "Episode 1550\tLast Reward: -120.00\tAverage reward_per_100_epochs: -109.46\n",
            "Episode 1575\tLast Reward: -122.00\tAverage reward_per_100_epochs: -111.44\n",
            "Episode 1600\tLast Reward: -109.00\tAverage reward_per_100_epochs: -112.75\n",
            "Episode 1625\tLast Reward: -100.00\tAverage reward_per_100_epochs: -112.61\n",
            "Episode 1650\tLast Reward: -124.00\tAverage reward_per_100_epochs: -113.37\n",
            "Episode 1675\tLast Reward: -114.00\tAverage reward_per_100_epochs: -110.96\n",
            "Episode 1700\tLast Reward: -105.00\tAverage reward_per_100_epochs: -109.20\n",
            "Episode 1725\tLast Reward: -120.00\tAverage reward_per_100_epochs: -113.42\n",
            "Episode 1750\tLast Reward: -92.00\tAverage reward_per_100_epochs: -114.79\n",
            "Episode 1775\tLast Reward: -123.00\tAverage reward_per_100_epochs: -115.18\n",
            "Episode 1800\tLast Reward: -120.00\tAverage reward_per_100_epochs: -114.83\n",
            "Episode 1825\tLast Reward: -102.00\tAverage reward_per_100_epochs: -108.84\n",
            "Episode 1850\tLast Reward: -139.00\tAverage reward_per_100_epochs: -106.49\n",
            "Episode 1875\tLast Reward: -76.00\tAverage reward_per_100_epochs: -109.48\n",
            "Episode 1900\tLast Reward: -103.00\tAverage reward_per_100_epochs: -107.47\n",
            "Episode 1925\tLast Reward: -113.00\tAverage reward_per_100_epochs: -106.80\n",
            "Episode 1950\tLast Reward: -102.00\tAverage reward_per_100_epochs: -105.21\n",
            "Episode 1975\tLast Reward: -72.00\tAverage reward_per_100_epochs: -101.47\n",
            "Episode 2000\tLast Reward: -116.00\tAverage reward_per_100_epochs: -105.80\n",
            "Episode 2025\tLast Reward: -106.00\tAverage reward_per_100_epochs: -109.12\n",
            "Episode 2050\tLast Reward: -138.00\tAverage reward_per_100_epochs: -111.76\n",
            "Episode 2075\tLast Reward: -99.00\tAverage reward_per_100_epochs: -115.65\n",
            "Episode 2100\tLast Reward: -115.00\tAverage reward_per_100_epochs: -117.53\n",
            "Episode 2125\tLast Reward: -128.00\tAverage reward_per_100_epochs: -117.28\n",
            "Episode 2150\tLast Reward: -97.00\tAverage reward_per_100_epochs: -114.74\n",
            "Episode 2175\tLast Reward: -81.00\tAverage reward_per_100_epochs: -113.34\n",
            "Episode 2200\tLast Reward: -99.00\tAverage reward_per_100_epochs: -109.67\n",
            "Episode 2225\tLast Reward: -87.00\tAverage reward_per_100_epochs: -109.65\n",
            "Episode 2250\tLast Reward: -89.00\tAverage reward_per_100_epochs: -110.68\n",
            "Episode 2275\tLast Reward: -126.00\tAverage reward_per_100_epochs: -110.15\n",
            "Episode 2300\tLast Reward: -93.00\tAverage reward_per_100_epochs: -109.80\n",
            "Episode 2325\tLast Reward: -94.00\tAverage reward_per_100_epochs: -108.08\n",
            "Episode 2350\tLast Reward: -106.00\tAverage reward_per_100_epochs: -106.93\n",
            "Episode 2375\tLast Reward: -100.00\tAverage reward_per_100_epochs: -107.43\n",
            "Episode 2400\tLast Reward: -88.00\tAverage reward_per_100_epochs: -106.16\n",
            "Episode 2425\tLast Reward: -97.00\tAverage reward_per_100_epochs: -105.67\n",
            "Episode 2450\tLast Reward: -81.00\tAverage reward_per_100_epochs: -105.73\n",
            "Episode 2475\tLast Reward: -88.00\tAverage reward_per_100_epochs: -102.64\n",
            "Episode 2500\tLast Reward: -102.00\tAverage reward_per_100_epochs: -101.08\n",
            "Episode 2525\tLast Reward: -105.00\tAverage reward_per_100_epochs: -98.46\n",
            "Episode 2550\tLast Reward: -64.00\tAverage reward_per_100_epochs: -98.81\n",
            "Episode 2575\tLast Reward: -101.00\tAverage reward_per_100_epochs: -98.72\n",
            "Episode 2600\tLast Reward: -92.00\tAverage reward_per_100_epochs: -99.91\n",
            "Episode 2625\tLast Reward: -89.00\tAverage reward_per_100_epochs: -103.42\n",
            "Episode 2650\tLast Reward: -98.00\tAverage reward_per_100_epochs: -105.60\n",
            "Episode 2675\tLast Reward: -106.00\tAverage reward_per_100_epochs: -104.44\n",
            "Episode 2700\tLast Reward: -85.00\tAverage reward_per_100_epochs: -101.34\n",
            "Episode 2725\tLast Reward: -112.00\tAverage reward_per_100_epochs: -100.21\n",
            "Episode 2750\tLast Reward: -80.00\tAverage reward_per_100_epochs: -97.84\n",
            "Episode 2775\tLast Reward: -100.00\tAverage reward_per_100_epochs: -97.37\n",
            "Episode 2800\tLast Reward: -87.00\tAverage reward_per_100_epochs: -100.82\n",
            "Episode 2825\tLast Reward: -95.00\tAverage reward_per_100_epochs: -101.85\n",
            "Episode 2850\tLast Reward: -74.00\tAverage reward_per_100_epochs: -101.71\n",
            "Episode 2875\tLast Reward: -136.00\tAverage reward_per_100_epochs: -102.06\n",
            "Episode 2900\tLast Reward: -88.00\tAverage reward_per_100_epochs: -100.19\n",
            "Episode 2925\tLast Reward: -91.00\tAverage reward_per_100_epochs: -99.57\n",
            "Episode 2950\tLast Reward: -88.00\tAverage reward_per_100_epochs: -97.92\n",
            "Episode 2975\tLast Reward: -105.00\tAverage reward_per_100_epochs: -96.85\n"
          ]
        }
      ]
    },
    {
      "cell_type": "code",
      "source": [
        "avg_rewards=rewards[1]\n",
        "plt.plot(range(len(avg_rewards)), avg_rewards, label='Line Plot')\n",
        "plt.xlabel('episodes')\n",
        "plt.ylabel('avg reward')\n",
        "plt.title('average number of steps to the goal over last 100 episodes ')\n",
        "#legend\n",
        "plt.legend()\n",
        "plt.show()"
      ],
      "metadata": {
        "colab": {
          "base_uri": "https://localhost:8080/",
          "height": 472
        },
        "outputId": "b6540b4a-b04e-41a1-c7c4-8ec62ca2d85b",
        "id": "g_huhDljwMB2"
      },
      "execution_count": null,
      "outputs": [
        {
          "output_type": "display_data",
          "data": {
            "text/plain": [
              "<Figure size 640x480 with 1 Axes>"
            ],
            "image/png": "[encoded data removed]"
          },
          "metadata": {}
        }
      ]
    },
    {
      "cell_type": "markdown",
      "source": [
        "###MountainCar\n"
      ],
      "metadata": {
        "id": "dtQqzLziBPym"
      }
    },
    {
      "cell_type": "code",
      "source": [
        "class MountActorCritic(nn.Module):\n",
        "    def __init__(self, env):\n",
        "        super(MountActorCritic, self).__init__()\n",
        "        self.source_models = nn.ModuleList()  # List of source models (frozen)\n",
        "\n",
        "        self.fc1 = nn.Linear(6, 12)\n",
        "        self.fc2 = nn.Linear(12, 24)\n",
        "        self.actor = nn.Linear(24, env.action_space.n)\n",
        "        self.critic = nn.Linear(24, 1)\n",
        "\n",
        "        self.saved_actions = []\n",
        "        self.rewards = []\n",
        "\n",
        "    def forward(self, x):\n",
        "\n",
        "        x = F.relu(self.fc1(x))\n",
        "        x = F.relu(self.fc2(x))\n",
        "        action_prob = F.softmax(self.actor(x), dim=-1)\n",
        "        state_values = self.critic(x)\n",
        "\n",
        "        return action_prob, state_values\n",
        "\n",
        "\n",
        "\n",
        "def select_action(model, state, epsilon):\n",
        "    if np.random.rand() < epsilon:\n",
        "        return random.randrange(3)\n",
        "    state = torch.from_numpy(state).float().unsqueeze(0)  # Add a batch dimension\n",
        "    probs, state_value = model(state)\n",
        "    probs_copy = probs.clone()  # Make a copy of the tensor\n",
        "    m = Categorical(probs_copy)\n",
        "    action = m.sample()\n",
        "    model.saved_actions.append((m.log_prob(action), state_value))\n",
        "    return action.item()\n",
        "\n",
        "def finish_episode():\n",
        "    R = 0\n",
        "    saved_actions = model3.saved_actions\n",
        "    policy_losses = []\n",
        "    value_losses = []\n",
        "    returns = []\n",
        "\n",
        "    for r in model3.rewards[::-1]:\n",
        "        R = r + 0.99 * R  # 0.99 is our gamma\n",
        "        returns.insert(0, R)\n",
        "    returns = torch.tensor(returns, dtype=torch.float32, requires_grad=True)\n",
        "    returns = (returns - returns.mean()) / (returns.std() + eps)\n",
        "\n",
        "    for (log_prob, value), R in zip(saved_actions, returns):\n",
        "        advantage = R - value.item()\n",
        "\n",
        "        policy_losses.append(-log_prob * advantage)\n",
        "        value_losses.append(F.smooth_l1_loss(value, torch.tensor([R])))\n",
        "\n",
        "    optimizer.zero_grad()\n",
        "    loss = torch.stack(policy_losses).sum() + torch.stack(value_losses).sum()\n",
        "\n",
        "    loss.backward()\n",
        "    optimizer.step()\n",
        "\n",
        "    del model3.rewards[:]\n",
        "    del model3.saved_actions[:]\n",
        "\n",
        "def train(model3, env):\n",
        "    print(\"In train\")\n",
        "    epsilon = 0.99\n",
        "    rewards = []\n",
        "    avg_rewards = []\n",
        "    min_p = 0\n",
        "    max_p = -1.2\n",
        "    running_reward = 0\n",
        "    for i_episode in range(2000):  # it converges there\n",
        "        state = env.reset()\n",
        "        ep_reward = 0\n",
        "        real_reward_sum = 0  # Variable to store the sum of real rewards\n",
        "        for t in range(1, 1001):\n",
        "            state_tensor = pad_state2(state, 6)\n",
        "            action = select_action(model3, state_tensor, epsilon)\n",
        "            epsilon *= 0.99\n",
        "            next_state, real_reward, done, _ = env.step(action)  # Store the real reward\n",
        "            real_reward_sum += real_reward  # Accumulate real rewards\n",
        "            position, velocity = next_state[0], next_state[1]\n",
        "            position_reward = 0\n",
        "            if position < -0.65:\n",
        "                position_reward += abs(-0.5 - position) * 2\n",
        "            if position > -0.35:\n",
        "                position_reward += abs(-0.5 - position) * 4\n",
        "            velocity_reward = 0\n",
        "            velocity_reward += (abs(velocity) / 0.07) * 5\n",
        "\n",
        "            neg_reward = 0\n",
        "            if velocity < 0 and (action == 2 or action == 1):\n",
        "                neg_reward -= (abs(velocity) / 0.07) * 5\n",
        "            if velocity > 0 and (action == 0 or action == 1):\n",
        "                neg_reward -= (abs(velocity) / 0.07) * 5\n",
        "            if position < min_p:\n",
        "                min_p = position\n",
        "            if position > max_p:\n",
        "                max_p = position\n",
        "            adjusted_reward = real_reward + position_reward + velocity_reward + neg_reward  # Adjusted reward\n",
        "\n",
        "            model3.rewards.append(adjusted_reward)\n",
        "            ep_reward += adjusted_reward\n",
        "            state = next_state  # Update the state\n",
        "            if done:\n",
        "                break\n",
        "        rewards.append(ep_reward)\n",
        "        if i_episode >= 100:\n",
        "            running_reward = np.mean(rewards[-100:])\n",
        "        avg_rewards.append(running_reward)\n",
        "        finish_episode()\n",
        "        if i_episode % 50 == 0:  # We will print some things out\n",
        "            print(\"Episode {}\\tLast Real Reward: {:.2f}\\tAverage reward_per_100_epochs: {:.2f}\".format(\n",
        "                i_episode, real_reward_sum, running_reward\n",
        "            ))\n",
        "    return rewards, avg_rewards\n"
      ],
      "metadata": {
        "id": "WmAFvghEBPhz"
      },
      "execution_count": null,
      "outputs": []
    },
    {
      "cell_type": "code",
      "source": [
        "env_mountaincar = gym.make('MountainCar-v0')\n",
        "model3 = MountActorCritic(env_mountaincar)\n",
        "\n",
        "optimizer = optim.Adam(model3.parameters(), lr=6e-3)\n",
        "eps = np.finfo(np.float32).eps.item()\n",
        "print(\"Before\")\n",
        "rewards = train(model3,env_mountaincar)\n"
      ],
      "metadata": {
        "colab": {
          "base_uri": "https://localhost:8080/"
        },
        "id": "4JvwOtV0B7O3",
        "outputId": "4939177a-b75d-4182-f154-b54c7d8125a3"
      },
      "execution_count": null,
      "outputs": [
        {
          "output_type": "stream",
          "name": "stdout",
          "text": [
            "Before\n",
            "In train\n",
            "Episode 0\tLast Real Reward: -200.00\tAverage reward_per_100_epochs: 0.00\n"
          ]
        },
        {
          "output_type": "stream",
          "name": "stderr",
          "text": [
            "<ipython-input-23-5f5b3b7bc808>:53: UserWarning: Using a target size (torch.Size([1])) that is different to the input size (torch.Size([1, 1])). This will likely lead to incorrect results due to broadcasting. Please ensure they have the same size.\n",
            "  value_losses.append(F.smooth_l1_loss(value, torch.tensor([R])))\n"
          ]
        },
        {
          "output_type": "stream",
          "name": "stdout",
          "text": [
            "Episode 50\tLast Real Reward: -200.00\tAverage reward_per_100_epochs: 0.00\n",
            "Episode 100\tLast Real Reward: -200.00\tAverage reward_per_100_epochs: -127.98\n",
            "Episode 150\tLast Real Reward: -200.00\tAverage reward_per_100_epochs: -98.96\n",
            "Episode 200\tLast Real Reward: -200.00\tAverage reward_per_100_epochs: -92.89\n",
            "Episode 250\tLast Real Reward: -200.00\tAverage reward_per_100_epochs: -84.41\n",
            "Episode 300\tLast Real Reward: -200.00\tAverage reward_per_100_epochs: -74.88\n",
            "Episode 350\tLast Real Reward: -200.00\tAverage reward_per_100_epochs: -80.75\n",
            "Episode 400\tLast Real Reward: -200.00\tAverage reward_per_100_epochs: -88.24\n",
            "Episode 450\tLast Real Reward: -200.00\tAverage reward_per_100_epochs: -88.05\n",
            "Episode 500\tLast Real Reward: -200.00\tAverage reward_per_100_epochs: -86.38\n",
            "Episode 550\tLast Real Reward: -200.00\tAverage reward_per_100_epochs: -82.93\n",
            "Episode 600\tLast Real Reward: -200.00\tAverage reward_per_100_epochs: -90.87\n",
            "Episode 650\tLast Real Reward: -200.00\tAverage reward_per_100_epochs: -91.33\n",
            "Episode 700\tLast Real Reward: -200.00\tAverage reward_per_100_epochs: -77.51\n",
            "Episode 750\tLast Real Reward: -200.00\tAverage reward_per_100_epochs: -82.03\n",
            "Episode 800\tLast Real Reward: -200.00\tAverage reward_per_100_epochs: -85.99\n",
            "Episode 850\tLast Real Reward: -200.00\tAverage reward_per_100_epochs: -84.87\n",
            "Episode 900\tLast Real Reward: -200.00\tAverage reward_per_100_epochs: -84.68\n",
            "Episode 950\tLast Real Reward: -200.00\tAverage reward_per_100_epochs: -81.61\n",
            "Episode 1000\tLast Real Reward: -200.00\tAverage reward_per_100_epochs: -79.28\n",
            "Episode 1050\tLast Real Reward: -200.00\tAverage reward_per_100_epochs: -70.69\n",
            "Episode 1100\tLast Real Reward: -200.00\tAverage reward_per_100_epochs: -80.30\n",
            "Episode 1150\tLast Real Reward: -200.00\tAverage reward_per_100_epochs: -97.94\n",
            "Episode 1200\tLast Real Reward: -200.00\tAverage reward_per_100_epochs: -91.38\n",
            "Episode 1250\tLast Real Reward: -200.00\tAverage reward_per_100_epochs: -70.55\n",
            "Episode 1300\tLast Real Reward: -200.00\tAverage reward_per_100_epochs: -64.21\n",
            "Episode 1350\tLast Real Reward: -200.00\tAverage reward_per_100_epochs: -74.07\n",
            "Episode 1400\tLast Real Reward: -200.00\tAverage reward_per_100_epochs: -88.00\n",
            "Episode 1450\tLast Real Reward: -200.00\tAverage reward_per_100_epochs: -80.69\n",
            "Episode 1500\tLast Real Reward: -200.00\tAverage reward_per_100_epochs: -72.77\n",
            "Episode 1550\tLast Real Reward: -200.00\tAverage reward_per_100_epochs: -79.65\n",
            "Episode 1600\tLast Real Reward: -200.00\tAverage reward_per_100_epochs: -83.35\n",
            "Episode 1650\tLast Real Reward: -200.00\tAverage reward_per_100_epochs: -84.21\n",
            "Episode 1700\tLast Real Reward: -200.00\tAverage reward_per_100_epochs: -73.05\n",
            "Episode 1750\tLast Real Reward: -200.00\tAverage reward_per_100_epochs: -66.29\n",
            "Episode 1800\tLast Real Reward: -200.00\tAverage reward_per_100_epochs: -73.66\n",
            "Episode 1850\tLast Real Reward: -200.00\tAverage reward_per_100_epochs: -83.41\n",
            "Episode 1900\tLast Real Reward: -200.00\tAverage reward_per_100_epochs: -78.18\n",
            "Episode 1950\tLast Real Reward: -200.00\tAverage reward_per_100_epochs: -74.88\n"
          ]
        }
      ]
    },
    {
      "cell_type": "code",
      "source": [
        "avg_rewards=rewards[1]\n",
        "plt.plot(range(len(avg_rewards)), avg_rewards, label='Line Plot')\n",
        "plt.xlabel('episodes')\n",
        "plt.ylabel('avg reward')\n",
        "plt.title('average number of steps to the goal over last 100 episodes ')\n",
        "#legend\n",
        "plt.legend()\n",
        "plt.show()"
      ],
      "metadata": {
        "colab": {
          "base_uri": "https://localhost:8080/",
          "height": 472
        },
        "id": "y_puaS2TCD07",
        "outputId": "717deaa7-d59e-45c5-d928-f910d9e1b4ec"
      },
      "execution_count": null,
      "outputs": [
        {
          "output_type": "display_data",
          "data": {
            "text/plain": [
              "<Figure size 640x480 with 1 Axes>"
            ],
            "image/png": "[encoded data removed]"
          },
          "metadata": {}
        }
      ]
    },
    {
      "cell_type": "markdown",
      "source": [
        "###Cartpole"
      ],
      "metadata": {
        "id": "9PJ1IGwXBTGu"
      }
    },
    {
      "cell_type": "code",
      "source": [
        "class ProgressiveActorCritic(nn.Module):\n",
        "    def __init__(self, env, source_models=[]):\n",
        "        super(ProgressiveActorCritic, self).__init__()\n",
        "        self.source_models = nn.ModuleList(source_models)  # List of source models (frozen)\n",
        "\n",
        "        # Calculate the total input dimension for the new layers\n",
        "        total_input_dim = env.observation_space.shape[0]\n",
        "        for model in source_models:\n",
        "            total_input_dim += model.fc2.out_features\n",
        "        print(total_input_dim)\n",
        "        print( env.action_space.n)\n",
        "        self.fc1_new = nn.Linear(48, 12)\n",
        "        self.fc2_new = nn.Linear(12, 24)\n",
        "        self.actor_new = nn.Linear(24, env.action_space.n)\n",
        "        self.critic_new = nn.Linear(24, 1)\n",
        "\n",
        "        self.saved_actions = []\n",
        "        self.rewards = []\n",
        "    def forward(self, x):\n",
        "        # Pass input through source models (without backpropagating through them)\n",
        "        source_outputs = []\n",
        "        for model in self.source_models:\n",
        "            x_temp = F.relu(model.fc1(x))\n",
        "            x_temp = F.relu(model.fc2(x_temp))\n",
        "            source_outputs.append(x_temp.unsqueeze(0))  # Add a batch dimension\n",
        "            # print(f\"Source model output shape: {x_temp.unsqueeze(0).shape}\")\n",
        "\n",
        "        # Ensure x also has a batch dimension\n",
        "        x = x.unsqueeze(0)\n",
        "        # print(f\"Input shape with batch dimension: {x.shape}\")\n",
        "\n",
        "        # Concatenate the output of source networks with the input for the new layers\n",
        "        x_new = torch.cat((*source_outputs, x), dim=1)\n",
        "        # print(f\"Concatenated input shape: {x_new.shape}\")\n",
        "\n",
        "        # Forward pass through the new layers\n",
        "        x_new = F.relu(self.fc1_new(x_new))\n",
        "        x_new = F.relu(self.fc2_new(x_new))\n",
        "        action_prob_new = F.softmax(self.actor_new(x_new), dim=-1)\n",
        "        state_values_new = self.critic_new(x_new)\n",
        "\n",
        "        return action_prob_new, state_values_new\n",
        "\n",
        "\n",
        "\n"
      ],
      "metadata": {
        "id": "Or6Fy_FBCYzN"
      },
      "execution_count": null,
      "outputs": []
    },
    {
      "cell_type": "code",
      "source": [
        "def select_action(state):\n",
        "    state = torch.from_numpy(state).float()\n",
        "    probs, state_value = model(state)\n",
        "    # print(f\"Action probabilities shape: {probs.shape}\")  # Check the shape of probs\n",
        "    probs_copy = probs.clone()  # Make a copy of the tensor\n",
        "\n",
        "    if probs_copy.shape[0] > 2:  # Check if there are enough actions\n",
        "        probs_copy[2] = 0\n",
        "    m = Categorical(probs_copy)\n",
        "    action = m.sample()\n",
        "    model.saved_actions.append((m.log_prob(action), state_value))\n",
        "    return action.item()\n"
      ],
      "metadata": {
        "id": "5lNl-rE_CsPp"
      },
      "execution_count": null,
      "outputs": []
    },
    {
      "cell_type": "code",
      "source": [
        "def finish_episode():\n",
        "    # We calculate the losses and perform backprop in this function\n",
        "    R = 0\n",
        "    saved_actions = model.saved_actions\n",
        "    policy_losses = []\n",
        "    value_losses =[]\n",
        "    returns = []\n",
        "\n",
        "    for r in model.rewards[::-1]:\n",
        "        R = r + 0.99 * R # 0.99 is our gamma number\n",
        "        returns.insert(0, R)\n",
        "    returns = torch.tensor(returns)\n",
        "    returns = (returns - returns.mean()) / (returns.std() + eps)\n",
        "\n",
        "    for (log_prob, value), R in zip(saved_actions, returns):\n",
        "        advantage = R - value.item()\n",
        "\n",
        "        policy_losses.append(-log_prob * advantage)\n",
        "        value_losses.append(F.smooth_l1_loss(value, torch.tensor([R])))\n",
        "\n",
        "    optimizer.zero_grad()\n",
        "    loss = torch.stack(policy_losses).sum() + torch.stack(value_losses).sum()\n",
        "\n",
        "    loss.backward()\n",
        "    optimizer.step()\n",
        "\n",
        "    del model.rewards[:]\n",
        "    del model.saved_actions[:]"
      ],
      "metadata": {
        "id": "jJnxY_qqCsPq"
      },
      "execution_count": null,
      "outputs": []
    },
    {
      "cell_type": "code",
      "source": [
        "\n",
        "def train(model,env,):\n",
        "    rewards=[]\n",
        "    avg_rewards=[]\n",
        "    running_reward = 0\n",
        "    for i_episode in range(3000): # We need around this many episodes\n",
        "        state = env.reset()\n",
        "        ep_reward = 0\n",
        "        for t in range(1, 500):\n",
        "            state_tensor = pad_state2(state, 6)\n",
        "            #state_tensor = torch.from_numpy(state_tensor).float()\n",
        "            action = select_action(state_tensor)\n",
        "\n",
        "            state, reward, done, _ = env.step(action)\n",
        "            state_tensor = torch.from_numpy(state).float()  # Convert state to tensor\n",
        "            state_tensor = pad_state2(state_tensor, 6)\n",
        "            model.rewards.append(reward)\n",
        "            ep_reward += reward\n",
        "            if done:\n",
        "                break\n",
        "        rewards.append(ep_reward)\n",
        "        if i_episode>=100:\n",
        "          running_reward = np.mean(rewards[-100:])\n",
        "        avg_rewards.append(running_reward)\n",
        "        finish_episode()\n",
        "        if i_episode % 25 == 0: # We will print some things out\n",
        "            print(\"Episode {}\\tLast Reward: {:.2f}\\tAverage reward_per_100_epochs: {:.2f}\".format(\n",
        "                i_episode, ep_reward, running_reward\n",
        "            ))\n",
        "        if running_reward > env.spec.reward_threshold:\n",
        "            print(\"Solved, running reward is now {} and the last episode runs to {} time steps\".format(\n",
        "                    running_reward, t\n",
        "            ))\n",
        "            break\n",
        "            # This means that we solved cartpole and training is complete\n",
        "    return rewards, avg_rewards"
      ],
      "metadata": {
        "id": "YSiM8m4ICsPq"
      },
      "execution_count": null,
      "outputs": []
    },
    {
      "cell_type": "code",
      "source": [
        "env = gym.make('CartPole-v1')\n",
        "model = ProgressiveActorCritic(env, [model2, model3])\n",
        "\n",
        "optimizer = optim.Adam(model.parameters(), lr=6e-3)\n",
        "eps = np.finfo(np.float32).eps.item()\n",
        "print(\"Before\")\n",
        "rewards = train(model,env)\n"
      ],
      "metadata": {
        "colab": {
          "base_uri": "https://localhost:8080/"
        },
        "outputId": "aca4af07-c057-4c52-ef64-48a9f57ae598",
        "id": "YGyP5tAICsPr"
      },
      "execution_count": null,
      "outputs": [
        {
          "output_type": "stream",
          "name": "stdout",
          "text": [
            "46\n",
            "2\n",
            "Before\n",
            "Episode 0\tLast Reward: 17.00\tAverage reward_per_100_epochs: 0.00\n"
          ]
        },
        {
          "output_type": "stream",
          "name": "stderr",
          "text": [
            "<ipython-input-49-9986ec923d11>:19: UserWarning: Using a target size (torch.Size([1])) that is different to the input size (torch.Size([1, 1])). This will likely lead to incorrect results due to broadcasting. Please ensure they have the same size.\n",
            "  value_losses.append(F.smooth_l1_loss(value, torch.tensor([R])))\n"
          ]
        },
        {
          "output_type": "stream",
          "name": "stdout",
          "text": [
            "Episode 25\tLast Reward: 63.00\tAverage reward_per_100_epochs: 0.00\n",
            "Episode 50\tLast Reward: 18.00\tAverage reward_per_100_epochs: 0.00\n",
            "Episode 75\tLast Reward: 21.00\tAverage reward_per_100_epochs: 0.00\n",
            "Episode 100\tLast Reward: 33.00\tAverage reward_per_100_epochs: 28.97\n",
            "Episode 125\tLast Reward: 45.00\tAverage reward_per_100_epochs: 30.41\n",
            "Episode 150\tLast Reward: 32.00\tAverage reward_per_100_epochs: 33.46\n",
            "Episode 175\tLast Reward: 30.00\tAverage reward_per_100_epochs: 33.62\n",
            "Episode 200\tLast Reward: 15.00\tAverage reward_per_100_epochs: 32.11\n",
            "Episode 225\tLast Reward: 75.00\tAverage reward_per_100_epochs: 34.61\n",
            "Episode 250\tLast Reward: 88.00\tAverage reward_per_100_epochs: 46.17\n",
            "Episode 275\tLast Reward: 12.00\tAverage reward_per_100_epochs: 48.11\n",
            "Episode 300\tLast Reward: 47.00\tAverage reward_per_100_epochs: 49.92\n",
            "Episode 325\tLast Reward: 66.00\tAverage reward_per_100_epochs: 51.41\n",
            "Episode 350\tLast Reward: 111.00\tAverage reward_per_100_epochs: 49.09\n",
            "Episode 375\tLast Reward: 25.00\tAverage reward_per_100_epochs: 50.65\n",
            "Episode 400\tLast Reward: 57.00\tAverage reward_per_100_epochs: 53.29\n",
            "Episode 425\tLast Reward: 70.00\tAverage reward_per_100_epochs: 61.92\n",
            "Episode 450\tLast Reward: 226.00\tAverage reward_per_100_epochs: 72.75\n",
            "Episode 475\tLast Reward: 80.00\tAverage reward_per_100_epochs: 88.33\n",
            "Episode 500\tLast Reward: 67.00\tAverage reward_per_100_epochs: 129.81\n",
            "Episode 525\tLast Reward: 71.00\tAverage reward_per_100_epochs: 136.93\n",
            "Episode 550\tLast Reward: 403.00\tAverage reward_per_100_epochs: 187.48\n",
            "Episode 575\tLast Reward: 499.00\tAverage reward_per_100_epochs: 272.53\n",
            "Episode 600\tLast Reward: 72.00\tAverage reward_per_100_epochs: 258.69\n",
            "Episode 625\tLast Reward: 41.00\tAverage reward_per_100_epochs: 240.76\n",
            "Episode 650\tLast Reward: 34.00\tAverage reward_per_100_epochs: 169.90\n",
            "Episode 675\tLast Reward: 30.00\tAverage reward_per_100_epochs: 66.45\n",
            "Episode 700\tLast Reward: 25.00\tAverage reward_per_100_epochs: 33.41\n",
            "Episode 725\tLast Reward: 26.00\tAverage reward_per_100_epochs: 29.93\n",
            "Episode 750\tLast Reward: 25.00\tAverage reward_per_100_epochs: 27.89\n",
            "Episode 775\tLast Reward: 24.00\tAverage reward_per_100_epochs: 26.86\n",
            "Episode 800\tLast Reward: 27.00\tAverage reward_per_100_epochs: 27.00\n",
            "Episode 825\tLast Reward: 36.00\tAverage reward_per_100_epochs: 28.15\n",
            "Episode 850\tLast Reward: 27.00\tAverage reward_per_100_epochs: 28.40\n",
            "Episode 875\tLast Reward: 29.00\tAverage reward_per_100_epochs: 28.84\n",
            "Episode 900\tLast Reward: 32.00\tAverage reward_per_100_epochs: 29.19\n",
            "Episode 925\tLast Reward: 31.00\tAverage reward_per_100_epochs: 29.32\n",
            "Episode 950\tLast Reward: 25.00\tAverage reward_per_100_epochs: 30.08\n",
            "Episode 975\tLast Reward: 30.00\tAverage reward_per_100_epochs: 31.04\n",
            "Episode 1000\tLast Reward: 39.00\tAverage reward_per_100_epochs: 31.48\n",
            "Episode 1025\tLast Reward: 29.00\tAverage reward_per_100_epochs: 31.74\n",
            "Episode 1050\tLast Reward: 30.00\tAverage reward_per_100_epochs: 31.93\n",
            "Episode 1075\tLast Reward: 37.00\tAverage reward_per_100_epochs: 32.76\n",
            "Episode 1100\tLast Reward: 36.00\tAverage reward_per_100_epochs: 34.00\n",
            "Episode 1125\tLast Reward: 30.00\tAverage reward_per_100_epochs: 35.17\n",
            "Episode 1150\tLast Reward: 46.00\tAverage reward_per_100_epochs: 36.84\n",
            "Episode 1175\tLast Reward: 25.00\tAverage reward_per_100_epochs: 37.43\n",
            "Episode 1200\tLast Reward: 41.00\tAverage reward_per_100_epochs: 37.65\n",
            "Episode 1225\tLast Reward: 47.00\tAverage reward_per_100_epochs: 37.76\n",
            "Episode 1250\tLast Reward: 36.00\tAverage reward_per_100_epochs: 38.02\n",
            "Episode 1275\tLast Reward: 41.00\tAverage reward_per_100_epochs: 39.27\n",
            "Episode 1300\tLast Reward: 37.00\tAverage reward_per_100_epochs: 41.59\n",
            "Episode 1325\tLast Reward: 499.00\tAverage reward_per_100_epochs: 95.95\n",
            "Episode 1350\tLast Reward: 499.00\tAverage reward_per_100_epochs: 210.70\n",
            "Episode 1375\tLast Reward: 499.00\tAverage reward_per_100_epochs: 324.74\n",
            "Episode 1400\tLast Reward: 499.00\tAverage reward_per_100_epochs: 437.80\n",
            "Solved, running reward is now 477.08 and the last episode runs to 499 time steps\n"
          ]
        }
      ]
    },
    {
      "cell_type": "code",
      "source": [
        "plt.plot(range(len(rew_avg)), rew_avg, label='Line Plot')\n",
        "plt.xlabel('episodes')\n",
        "plt.ylabel('avg reward')\n",
        "plt.title('average number of steps to the goal over last 100 episodes ')\n",
        "#legend\n",
        "plt.legend()\n",
        "plt.show()"
      ],
      "metadata": {
        "id": "5Tru9UftCsPr",
        "colab": {
          "base_uri": "https://localhost:8080/",
          "height": 472
        },
        "outputId": "914a7ff7-9d8e-4e75-dba8-a511369a99af"
      },
      "execution_count": null,
      "outputs": [
        {
          "output_type": "display_data",
          "data": {
            "text/plain": [
              "<Figure size 640x480 with 1 Axes>"
            ],
            "image/png": "[encoded data removed]"
          },
          "metadata": {}
        }
      ]
    },
    {
      "cell_type": "markdown",
      "source": [
        "##{cartpole, acrobot} -> mountainCar"
      ],
      "metadata": {
        "id": "mNkXLkKleMsx"
      }
    },
    {
      "cell_type": "markdown",
      "source": [
        "###Cartpool"
      ],
      "metadata": {
        "id": "hYEmqECbjVhQ"
      }
    },
    {
      "cell_type": "code",
      "source": [
        "from torch.distributions import Categorical\n",
        "from torch.distributions import Categorical\n",
        "class ActorCritic(nn.Module):\n",
        "    def __init__(self):\n",
        "        super(ActorCritic, self).__init__()\n",
        "        self.fc1 = nn.Linear(6, 12) # 4 because there are 4 parameters as the observation space\n",
        "        self.fc2 = nn.Linear(12, 24)\n",
        "        self.actor = nn.Linear(24, 3) # 2 for the number of actions\n",
        "        self.critic = nn.Linear(24, 1) # Critic is always 1\n",
        "        self.saved_actions = []\n",
        "        self.rewards = []\n",
        "    def forward(self, x):\n",
        "        x = F.relu(self.fc1(x))\n",
        "        x = F.relu(self.fc2(x))\n",
        "        action_prob = F.softmax(self.actor(x), dim=-1)\n",
        "        state_values = self.critic(x)\n",
        "        return action_prob, state_values\n",
        "\n"
      ],
      "metadata": {
        "id": "2jCPW-5wzhyR"
      },
      "execution_count": null,
      "outputs": []
    },
    {
      "cell_type": "code",
      "source": [
        "def select_action(state):\n",
        "    state = torch.from_numpy(state).float()\n",
        "    probs, state_value = model(state)\n",
        "    probs_copy = probs.clone()  # Make a copy of the tensor\n",
        "    probs_copy[2] = 0\n",
        "    m = Categorical(probs_copy)\n",
        "    action = m.sample()\n",
        "    model.saved_actions.append((m.log_prob(action), state_value))\n",
        "    return action.item()"
      ],
      "metadata": {
        "id": "DyN-erfCjdtG"
      },
      "execution_count": null,
      "outputs": []
    },
    {
      "cell_type": "code",
      "source": [
        "def finish_episode():\n",
        "    # We calculate the losses and perform backprop in this function\n",
        "    R = 0\n",
        "    saved_actions = model.saved_actions\n",
        "    policy_losses = []\n",
        "    value_losses =[]\n",
        "    returns = []\n",
        "\n",
        "    for r in model.rewards[::-1]:\n",
        "        R = r + 0.99 * R # 0.99 is our gamma number\n",
        "        returns.insert(0, R)\n",
        "    returns = torch.tensor(returns)\n",
        "    returns = (returns - returns.mean()) / (returns.std() + eps)\n",
        "\n",
        "    for (log_prob, value), R in zip(saved_actions, returns):\n",
        "        advantage = R - value.item()\n",
        "\n",
        "        policy_losses.append(-log_prob * advantage)\n",
        "        value_losses.append(F.smooth_l1_loss(value, torch.tensor([R])))\n",
        "\n",
        "    optimizer.zero_grad()\n",
        "    loss = torch.stack(policy_losses).sum() + torch.stack(value_losses).sum()\n",
        "\n",
        "    loss.backward()\n",
        "    optimizer.step()\n",
        "\n",
        "    del model.rewards[:]\n",
        "    del model.saved_actions[:]"
      ],
      "metadata": {
        "id": "EN_zwMnQjgTZ"
      },
      "execution_count": null,
      "outputs": []
    },
    {
      "cell_type": "code",
      "source": [
        "\n",
        "def train(model,env,):\n",
        "    rewards=[]\n",
        "    avg_rewards=[]\n",
        "    running_reward = 0\n",
        "    for i_episode in range(3000): # We need around this many episodes\n",
        "        state = env.reset()\n",
        "        ep_reward = 0\n",
        "        for t in range(1, 500):\n",
        "            state_tensor = pad_state2(state, 6)\n",
        "            #state_tensor = torch.from_numpy(state_tensor).float()\n",
        "            action = select_action(state_tensor)\n",
        "\n",
        "            state, reward, done, _ = env.step(action)\n",
        "            state_tensor = torch.from_numpy(state).float()  # Convert state to tensor\n",
        "            state_tensor = pad_state2(state_tensor, 6)\n",
        "            model.rewards.append(reward)\n",
        "            ep_reward += reward\n",
        "            if done:\n",
        "                break\n",
        "        rewards.append(ep_reward)\n",
        "        if i_episode>=100:\n",
        "          running_reward = np.mean(rewards[-100:])\n",
        "        avg_rewards.append(running_reward)\n",
        "        finish_episode()\n",
        "        if i_episode % 25 == 0: # We will print some things out\n",
        "            print(\"Episode {}\\tLast Reward: {:.2f}\\tAverage reward_per_100_epochs: {:.2f}\".format(\n",
        "                i_episode, ep_reward, running_reward\n",
        "            ))\n",
        "        if running_reward > env.spec.reward_threshold:\n",
        "            print(\"Solved, running reward is now {} and the last episode runs to {} time steps\".format(\n",
        "                    running_reward, t\n",
        "            ))\n",
        "            break\n",
        "            # This means that we solved cartpole and training is complete\n",
        "    return rewards, avg_rewards"
      ],
      "metadata": {
        "id": "fVpeKWPXjihm"
      },
      "execution_count": null,
      "outputs": []
    },
    {
      "cell_type": "code",
      "source": [
        "env = gym.make('CartPole-v1')\n",
        "model = ActorCritic()\n",
        "optimizer = optim.Adam(model.parameters(), lr=6e-3)\n",
        "eps = np.finfo(np.float32).eps.item()\n",
        "rewards,rew_avg=train(model,env)"
      ],
      "metadata": {
        "colab": {
          "base_uri": "https://localhost:8080/"
        },
        "id": "C7IUMOMrjkru",
        "outputId": "362b52ac-21e8-40b2-92a9-2b876f774810"
      },
      "execution_count": null,
      "outputs": [
        {
          "output_type": "stream",
          "name": "stderr",
          "text": [
            "/usr/local/lib/python3.10/dist-packages/gym/core.py:317: DeprecationWarning: \u001b[33mWARN: Initializing wrapper in old step API which returns one bool instead of two. It is recommended to set `new_step_api=True` to use new step API. This will be the default behaviour in future.\u001b[0m\n",
            "  deprecation(\n",
            "/usr/local/lib/python3.10/dist-packages/gym/wrappers/step_api_compatibility.py:39: DeprecationWarning: \u001b[33mWARN: Initializing environment in old step API which returns one bool instead of two. It is recommended to set `new_step_api=True` to use new step API. This will be the default behaviour in future.\u001b[0m\n",
            "  deprecation(\n",
            "/usr/local/lib/python3.10/dist-packages/gym/utils/passive_env_checker.py:241: DeprecationWarning: `np.bool8` is a deprecated alias for `np.bool_`.  (Deprecated NumPy 1.24)\n",
            "  if not isinstance(terminated, (bool, np.bool8)):\n"
          ]
        },
        {
          "output_type": "stream",
          "name": "stdout",
          "text": [
            "Episode 0\tLast Reward: 13.00\tAverage reward_per_100_epochs: 0.00\n",
            "Episode 25\tLast Reward: 13.00\tAverage reward_per_100_epochs: 0.00\n",
            "Episode 50\tLast Reward: 12.00\tAverage reward_per_100_epochs: 0.00\n",
            "Episode 75\tLast Reward: 20.00\tAverage reward_per_100_epochs: 0.00\n",
            "Episode 100\tLast Reward: 23.00\tAverage reward_per_100_epochs: 21.57\n",
            "Episode 125\tLast Reward: 50.00\tAverage reward_per_100_epochs: 21.14\n",
            "Episode 150\tLast Reward: 32.00\tAverage reward_per_100_epochs: 22.58\n",
            "Episode 175\tLast Reward: 37.00\tAverage reward_per_100_epochs: 24.93\n",
            "Episode 200\tLast Reward: 29.00\tAverage reward_per_100_epochs: 27.57\n",
            "Episode 225\tLast Reward: 20.00\tAverage reward_per_100_epochs: 29.25\n",
            "Episode 250\tLast Reward: 38.00\tAverage reward_per_100_epochs: 38.29\n",
            "Episode 275\tLast Reward: 24.00\tAverage reward_per_100_epochs: 50.73\n",
            "Episode 300\tLast Reward: 182.00\tAverage reward_per_100_epochs: 65.72\n",
            "Episode 325\tLast Reward: 48.00\tAverage reward_per_100_epochs: 79.14\n",
            "Episode 350\tLast Reward: 253.00\tAverage reward_per_100_epochs: 98.13\n",
            "Episode 375\tLast Reward: 321.00\tAverage reward_per_100_epochs: 153.82\n",
            "Episode 400\tLast Reward: 378.00\tAverage reward_per_100_epochs: 234.02\n",
            "Episode 425\tLast Reward: 309.00\tAverage reward_per_100_epochs: 325.82\n",
            "Episode 450\tLast Reward: 496.00\tAverage reward_per_100_epochs: 391.26\n",
            "Episode 475\tLast Reward: 398.00\tAverage reward_per_100_epochs: 426.23\n",
            "Episode 500\tLast Reward: 254.00\tAverage reward_per_100_epochs: 417.86\n",
            "Episode 525\tLast Reward: 407.00\tAverage reward_per_100_epochs: 389.42\n",
            "Episode 550\tLast Reward: 499.00\tAverage reward_per_100_epochs: 389.87\n",
            "Episode 575\tLast Reward: 499.00\tAverage reward_per_100_epochs: 387.27\n",
            "Episode 600\tLast Reward: 499.00\tAverage reward_per_100_epochs: 416.63\n",
            "Episode 625\tLast Reward: 499.00\tAverage reward_per_100_epochs: 457.32\n",
            "Solved, running reward is now 477.92 and the last episode runs to 499 time steps\n"
          ]
        }
      ]
    },
    {
      "cell_type": "code",
      "source": [
        "plt.plot(range(len(rew_avg)), rew_avg, label='Line Plot')\n",
        "plt.xlabel('episodes')\n",
        "plt.ylabel('avg reward')\n",
        "plt.title('average number of steps to the goal over last 100 episodes ')\n",
        "#legend\n",
        "plt.legend()\n",
        "plt.show()"
      ],
      "metadata": {
        "colab": {
          "base_uri": "https://localhost:8080/",
          "height": 527
        },
        "id": "jxBfJowbjnWO",
        "outputId": "6ce81485-b90f-4eb5-c930-d455756de2d5"
      },
      "execution_count": null,
      "outputs": [
        {
          "output_type": "stream",
          "name": "stderr",
          "text": [
            "/usr/local/lib/python3.10/dist-packages/ipykernel/ipkernel.py:283: DeprecationWarning: `should_run_async` will not call `transform_cell` automatically in the future. Please pass the result to `transformed_cell` argument and any exception that happen during thetransform in `preprocessing_exc_tuple` in IPython 7.17 and above.\n",
            "  and should_run_async(code)\n"
          ]
        },
        {
          "output_type": "display_data",
          "data": {
            "text/plain": [
              "<Figure size 640x480 with 1 Axes>"
            ],
            "image/png": "[encoded data removed]"
          },
          "metadata": {}
        }
      ]
    },
    {
      "cell_type": "markdown",
      "source": [
        "###Acrobot"
      ],
      "metadata": {
        "id": "cmJNLcEXjq14"
      }
    },
    {
      "cell_type": "code",
      "source": [
        "\n",
        "class ActorCritic2(nn.Module):\n",
        "    def __init__(self):\n",
        "        super(ActorCritic2, self).__init__()\n",
        "        self.fc1 = nn.Linear(6, 12) # 4 because there are 4 parameters as the observation space\n",
        "        self.fc2 = nn.Linear(12, 18)\n",
        "        self.actor = nn.Linear(18, 3) # 2 for the number of actions\n",
        "        self.critic = nn.Linear(18, 1) # Critic is always 1\n",
        "        self.saved_actions = []\n",
        "        self.rewards = []\n",
        "    def forward(self, x):\n",
        "        x = F.relu(self.fc1(x))\n",
        "        x = F.relu(self.fc2(x))\n",
        "        action_prob = F.softmax(self.actor(x), dim=-1)\n",
        "        state_values = self.critic(x)\n",
        "        return action_prob, state_values"
      ],
      "metadata": {
        "id": "OEwtKY86jtjW"
      },
      "execution_count": null,
      "outputs": []
    },
    {
      "cell_type": "code",
      "source": [
        "def select_action(state):\n",
        "    state = torch.from_numpy(state).float()\n",
        "    probs, state_value = model2(state)\n",
        "    probs_copy = probs.clone()  # Make a copy of the tensor\n",
        "    #probs_copy[2] = 0\n",
        "    m = Categorical(probs_copy)\n",
        "    action = m.sample()\n",
        "    model2.saved_actions.append((m.log_prob(action), state_value))\n",
        "    return action.item()"
      ],
      "metadata": {
        "id": "GrRvk3i1nqRd"
      },
      "execution_count": null,
      "outputs": []
    },
    {
      "cell_type": "code",
      "source": [
        "def finish_episode():\n",
        "    # We calculate the losses and perform backprop in this function\n",
        "    R = 0\n",
        "    saved_actions = model2.saved_actions\n",
        "    policy_losses = []\n",
        "    value_losses =[]\n",
        "    returns = []\n",
        "\n",
        "    for r in model2.rewards[::-1]:\n",
        "        R = r + 0.99 * R # 0.99 is our gamma number\n",
        "        returns.insert(0, R)\n",
        "    returns = torch.tensor(returns)\n",
        "    returns = (returns - returns.mean()) / (returns.std() + eps)\n",
        "\n",
        "    for (log_prob, value), R in zip(saved_actions, returns):\n",
        "        advantage = R - value.item()\n",
        "\n",
        "        policy_losses.append(-log_prob * advantage)\n",
        "        value_losses.append(F.smooth_l1_loss(value, torch.tensor([R])))\n",
        "\n",
        "    optimizer.zero_grad()\n",
        "    loss = torch.stack(policy_losses).sum() + torch.stack(value_losses).sum()\n",
        "\n",
        "    loss.backward()\n",
        "    optimizer.step()\n",
        "\n",
        "    del model2.rewards[:]\n",
        "    del model2.saved_actions[:]"
      ],
      "metadata": {
        "id": "pVAenszIpXpI"
      },
      "execution_count": null,
      "outputs": []
    },
    {
      "cell_type": "code",
      "source": [
        "def train(model2,env,):\n",
        "    rewards=[]\n",
        "    avg_rewards=[]\n",
        "    running_reward = 0\n",
        "    for i_episode in range(3000): # We need around this many episodes\n",
        "        state = env.reset()\n",
        "        ep_reward = 0\n",
        "        for t in range(1, 501):\n",
        "            state_tensor = pad_state2(state, 6)\n",
        "            #state_tensor = torch.from_numpy(state_tensor).float()\n",
        "            action = select_action(state_tensor)\n",
        "\n",
        "            state, reward, done, _ = env.step(action)\n",
        "            state_tensor = torch.from_numpy(state).float()  # Convert state to tensor\n",
        "            state_tensor = pad_state2(state_tensor, 6)\n",
        "            model2.rewards.append(reward)\n",
        "            ep_reward += reward\n",
        "            if done:\n",
        "                break\n",
        "        rewards.append(ep_reward)\n",
        "        if i_episode>=100:\n",
        "          running_reward = np.mean(rewards[-100:])\n",
        "        avg_rewards.append(running_reward)\n",
        "        finish_episode()\n",
        "        if i_episode % 25 == 0: # We will print some things out\n",
        "            print(\"Episode {}\\tLast Reward: {:.2f}\\tAverage reward_per_100_epochs: {:.2f}\".format(\n",
        "                i_episode, ep_reward, running_reward\n",
        "            ))\n",
        "        # if running_reward > env.spec.reward_threshold:\n",
        "        #     print(\"Solved, running reward is now {} and the last episode runs to {} time steps\".format(\n",
        "        #             running_reward, t\n",
        "        #     ))\n",
        "        #     break\n",
        "            # This means that we solved cartpole and training is complete\n",
        "    return rewards, avg_rewards"
      ],
      "metadata": {
        "id": "JbvOBvQnkcXg"
      },
      "execution_count": null,
      "outputs": []
    },
    {
      "cell_type": "code",
      "source": [
        "model2 = ActorCritic2()\n",
        "env = gym.make('Acrobot-v1')\n",
        "optimizer = optim.Adam(model2.parameters(), lr=6e-3)\n",
        "eps = np.finfo(np.float32).eps.item()\n",
        "rewards=train(model2,env)"
      ],
      "metadata": {
        "colab": {
          "base_uri": "https://localhost:8080/"
        },
        "id": "U4boztpJkcXm",
        "outputId": "ac7c78c1-c3f3-44d8-bcc6-eb6b160c009e"
      },
      "execution_count": null,
      "outputs": [
        {
          "output_type": "stream",
          "name": "stderr",
          "text": [
            "/usr/local/lib/python3.10/dist-packages/gym/core.py:317: DeprecationWarning: \u001b[33mWARN: Initializing wrapper in old step API which returns one bool instead of two. It is recommended to set `new_step_api=True` to use new step API. This will be the default behaviour in future.\u001b[0m\n",
            "  deprecation(\n",
            "/usr/local/lib/python3.10/dist-packages/gym/wrappers/step_api_compatibility.py:39: DeprecationWarning: \u001b[33mWARN: Initializing environment in old step API which returns one bool instead of two. It is recommended to set `new_step_api=True` to use new step API. This will be the default behaviour in future.\u001b[0m\n",
            "  deprecation(\n"
          ]
        },
        {
          "output_type": "stream",
          "name": "stdout",
          "text": [
            "Episode 0\tLast Reward: -500.00\tAverage reward_per_100_epochs: 0.00\n",
            "Episode 25\tLast Reward: -500.00\tAverage reward_per_100_epochs: 0.00\n",
            "Episode 50\tLast Reward: -473.00\tAverage reward_per_100_epochs: 0.00\n",
            "Episode 75\tLast Reward: -500.00\tAverage reward_per_100_epochs: 0.00\n",
            "Episode 100\tLast Reward: -500.00\tAverage reward_per_100_epochs: -498.90\n",
            "Episode 125\tLast Reward: -500.00\tAverage reward_per_100_epochs: -496.60\n",
            "Episode 150\tLast Reward: -500.00\tAverage reward_per_100_epochs: -496.87\n",
            "Episode 175\tLast Reward: -500.00\tAverage reward_per_100_epochs: -496.23\n",
            "Episode 200\tLast Reward: -500.00\tAverage reward_per_100_epochs: -497.06\n",
            "Episode 225\tLast Reward: -500.00\tAverage reward_per_100_epochs: -499.36\n",
            "Episode 250\tLast Reward: -500.00\tAverage reward_per_100_epochs: -498.74\n",
            "Episode 275\tLast Reward: -500.00\tAverage reward_per_100_epochs: -497.65\n",
            "Episode 300\tLast Reward: -470.00\tAverage reward_per_100_epochs: -490.43\n",
            "Episode 325\tLast Reward: -500.00\tAverage reward_per_100_epochs: -481.38\n",
            "Episode 350\tLast Reward: -500.00\tAverage reward_per_100_epochs: -473.55\n",
            "Episode 375\tLast Reward: -500.00\tAverage reward_per_100_epochs: -458.63\n",
            "Episode 400\tLast Reward: -265.00\tAverage reward_per_100_epochs: -435.21\n",
            "Episode 425\tLast Reward: -278.00\tAverage reward_per_100_epochs: -403.59\n",
            "Episode 450\tLast Reward: -243.00\tAverage reward_per_100_epochs: -370.52\n",
            "Episode 475\tLast Reward: -423.00\tAverage reward_per_100_epochs: -325.17\n",
            "Episode 500\tLast Reward: -362.00\tAverage reward_per_100_epochs: -301.26\n",
            "Episode 525\tLast Reward: -138.00\tAverage reward_per_100_epochs: -273.16\n",
            "Episode 550\tLast Reward: -200.00\tAverage reward_per_100_epochs: -241.48\n",
            "Episode 575\tLast Reward: -225.00\tAverage reward_per_100_epochs: -228.16\n",
            "Episode 600\tLast Reward: -217.00\tAverage reward_per_100_epochs: -202.69\n",
            "Episode 625\tLast Reward: -181.00\tAverage reward_per_100_epochs: -187.62\n",
            "Episode 650\tLast Reward: -156.00\tAverage reward_per_100_epochs: -177.76\n",
            "Episode 675\tLast Reward: -204.00\tAverage reward_per_100_epochs: -167.75\n",
            "Episode 700\tLast Reward: -158.00\tAverage reward_per_100_epochs: -162.47\n",
            "Episode 725\tLast Reward: -149.00\tAverage reward_per_100_epochs: -158.28\n",
            "Episode 750\tLast Reward: -183.00\tAverage reward_per_100_epochs: -156.40\n",
            "Episode 775\tLast Reward: -109.00\tAverage reward_per_100_epochs: -153.66\n",
            "Episode 800\tLast Reward: -116.00\tAverage reward_per_100_epochs: -148.46\n",
            "Episode 825\tLast Reward: -97.00\tAverage reward_per_100_epochs: -149.24\n",
            "Episode 850\tLast Reward: -102.00\tAverage reward_per_100_epochs: -142.60\n",
            "Episode 875\tLast Reward: -131.00\tAverage reward_per_100_epochs: -138.19\n",
            "Episode 900\tLast Reward: -101.00\tAverage reward_per_100_epochs: -138.39\n",
            "Episode 925\tLast Reward: -100.00\tAverage reward_per_100_epochs: -133.39\n",
            "Episode 950\tLast Reward: -108.00\tAverage reward_per_100_epochs: -133.84\n",
            "Episode 975\tLast Reward: -148.00\tAverage reward_per_100_epochs: -137.50\n",
            "Episode 1000\tLast Reward: -208.00\tAverage reward_per_100_epochs: -135.00\n",
            "Episode 1025\tLast Reward: -122.00\tAverage reward_per_100_epochs: -134.39\n",
            "Episode 1050\tLast Reward: -141.00\tAverage reward_per_100_epochs: -131.18\n",
            "Episode 1075\tLast Reward: -97.00\tAverage reward_per_100_epochs: -122.75\n",
            "Episode 1100\tLast Reward: -120.00\tAverage reward_per_100_epochs: -116.29\n",
            "Episode 1125\tLast Reward: -128.00\tAverage reward_per_100_epochs: -112.60\n",
            "Episode 1150\tLast Reward: -103.00\tAverage reward_per_100_epochs: -110.26\n",
            "Episode 1175\tLast Reward: -127.00\tAverage reward_per_100_epochs: -112.98\n",
            "Episode 1200\tLast Reward: -122.00\tAverage reward_per_100_epochs: -119.60\n",
            "Episode 1225\tLast Reward: -122.00\tAverage reward_per_100_epochs: -122.63\n",
            "Episode 1250\tLast Reward: -131.00\tAverage reward_per_100_epochs: -123.59\n",
            "Episode 1275\tLast Reward: -98.00\tAverage reward_per_100_epochs: -123.71\n",
            "Episode 1300\tLast Reward: -86.00\tAverage reward_per_100_epochs: -118.97\n",
            "Episode 1325\tLast Reward: -124.00\tAverage reward_per_100_epochs: -116.60\n",
            "Episode 1350\tLast Reward: -114.00\tAverage reward_per_100_epochs: -113.50\n",
            "Episode 1375\tLast Reward: -107.00\tAverage reward_per_100_epochs: -111.19\n",
            "Episode 1400\tLast Reward: -94.00\tAverage reward_per_100_epochs: -111.79\n",
            "Episode 1425\tLast Reward: -95.00\tAverage reward_per_100_epochs: -111.70\n",
            "Episode 1450\tLast Reward: -128.00\tAverage reward_per_100_epochs: -112.63\n",
            "Episode 1475\tLast Reward: -165.00\tAverage reward_per_100_epochs: -111.62\n",
            "Episode 1500\tLast Reward: -136.00\tAverage reward_per_100_epochs: -110.76\n",
            "Episode 1525\tLast Reward: -91.00\tAverage reward_per_100_epochs: -109.12\n",
            "Episode 1550\tLast Reward: -120.00\tAverage reward_per_100_epochs: -109.46\n",
            "Episode 1575\tLast Reward: -122.00\tAverage reward_per_100_epochs: -111.44\n",
            "Episode 1600\tLast Reward: -109.00\tAverage reward_per_100_epochs: -112.75\n",
            "Episode 1625\tLast Reward: -100.00\tAverage reward_per_100_epochs: -112.61\n",
            "Episode 1650\tLast Reward: -124.00\tAverage reward_per_100_epochs: -113.37\n",
            "Episode 1675\tLast Reward: -114.00\tAverage reward_per_100_epochs: -110.96\n",
            "Episode 1700\tLast Reward: -105.00\tAverage reward_per_100_epochs: -109.20\n",
            "Episode 1725\tLast Reward: -120.00\tAverage reward_per_100_epochs: -113.42\n",
            "Episode 1750\tLast Reward: -92.00\tAverage reward_per_100_epochs: -114.79\n",
            "Episode 1775\tLast Reward: -123.00\tAverage reward_per_100_epochs: -115.18\n",
            "Episode 1800\tLast Reward: -120.00\tAverage reward_per_100_epochs: -114.83\n",
            "Episode 1825\tLast Reward: -102.00\tAverage reward_per_100_epochs: -108.84\n",
            "Episode 1850\tLast Reward: -139.00\tAverage reward_per_100_epochs: -106.49\n",
            "Episode 1875\tLast Reward: -76.00\tAverage reward_per_100_epochs: -109.48\n",
            "Episode 1900\tLast Reward: -103.00\tAverage reward_per_100_epochs: -107.47\n",
            "Episode 1925\tLast Reward: -113.00\tAverage reward_per_100_epochs: -106.80\n",
            "Episode 1950\tLast Reward: -102.00\tAverage reward_per_100_epochs: -105.21\n",
            "Episode 1975\tLast Reward: -72.00\tAverage reward_per_100_epochs: -101.47\n",
            "Episode 2000\tLast Reward: -116.00\tAverage reward_per_100_epochs: -105.80\n",
            "Episode 2025\tLast Reward: -106.00\tAverage reward_per_100_epochs: -109.12\n",
            "Episode 2050\tLast Reward: -138.00\tAverage reward_per_100_epochs: -111.76\n",
            "Episode 2075\tLast Reward: -99.00\tAverage reward_per_100_epochs: -115.65\n",
            "Episode 2100\tLast Reward: -115.00\tAverage reward_per_100_epochs: -117.53\n",
            "Episode 2125\tLast Reward: -128.00\tAverage reward_per_100_epochs: -117.28\n",
            "Episode 2150\tLast Reward: -97.00\tAverage reward_per_100_epochs: -114.74\n",
            "Episode 2175\tLast Reward: -81.00\tAverage reward_per_100_epochs: -113.34\n",
            "Episode 2200\tLast Reward: -99.00\tAverage reward_per_100_epochs: -109.67\n",
            "Episode 2225\tLast Reward: -87.00\tAverage reward_per_100_epochs: -109.65\n",
            "Episode 2250\tLast Reward: -89.00\tAverage reward_per_100_epochs: -110.68\n",
            "Episode 2275\tLast Reward: -126.00\tAverage reward_per_100_epochs: -110.15\n",
            "Episode 2300\tLast Reward: -93.00\tAverage reward_per_100_epochs: -109.80\n",
            "Episode 2325\tLast Reward: -94.00\tAverage reward_per_100_epochs: -108.08\n",
            "Episode 2350\tLast Reward: -106.00\tAverage reward_per_100_epochs: -106.93\n",
            "Episode 2375\tLast Reward: -100.00\tAverage reward_per_100_epochs: -107.43\n",
            "Episode 2400\tLast Reward: -88.00\tAverage reward_per_100_epochs: -106.16\n",
            "Episode 2425\tLast Reward: -97.00\tAverage reward_per_100_epochs: -105.67\n",
            "Episode 2450\tLast Reward: -81.00\tAverage reward_per_100_epochs: -105.73\n",
            "Episode 2475\tLast Reward: -88.00\tAverage reward_per_100_epochs: -102.64\n",
            "Episode 2500\tLast Reward: -102.00\tAverage reward_per_100_epochs: -101.08\n",
            "Episode 2525\tLast Reward: -105.00\tAverage reward_per_100_epochs: -98.46\n",
            "Episode 2550\tLast Reward: -64.00\tAverage reward_per_100_epochs: -98.81\n",
            "Episode 2575\tLast Reward: -101.00\tAverage reward_per_100_epochs: -98.72\n",
            "Episode 2600\tLast Reward: -92.00\tAverage reward_per_100_epochs: -99.91\n",
            "Episode 2625\tLast Reward: -89.00\tAverage reward_per_100_epochs: -103.42\n",
            "Episode 2650\tLast Reward: -98.00\tAverage reward_per_100_epochs: -105.60\n",
            "Episode 2675\tLast Reward: -106.00\tAverage reward_per_100_epochs: -104.44\n",
            "Episode 2700\tLast Reward: -85.00\tAverage reward_per_100_epochs: -101.34\n",
            "Episode 2725\tLast Reward: -112.00\tAverage reward_per_100_epochs: -100.21\n",
            "Episode 2750\tLast Reward: -80.00\tAverage reward_per_100_epochs: -97.84\n",
            "Episode 2775\tLast Reward: -100.00\tAverage reward_per_100_epochs: -97.37\n",
            "Episode 2800\tLast Reward: -87.00\tAverage reward_per_100_epochs: -100.82\n",
            "Episode 2825\tLast Reward: -95.00\tAverage reward_per_100_epochs: -101.85\n",
            "Episode 2850\tLast Reward: -74.00\tAverage reward_per_100_epochs: -101.71\n",
            "Episode 2875\tLast Reward: -136.00\tAverage reward_per_100_epochs: -102.06\n",
            "Episode 2900\tLast Reward: -88.00\tAverage reward_per_100_epochs: -100.19\n",
            "Episode 2925\tLast Reward: -91.00\tAverage reward_per_100_epochs: -99.57\n",
            "Episode 2950\tLast Reward: -88.00\tAverage reward_per_100_epochs: -97.92\n",
            "Episode 2975\tLast Reward: -105.00\tAverage reward_per_100_epochs: -96.85\n"
          ]
        }
      ]
    },
    {
      "cell_type": "code",
      "source": [
        "avg_rewards=rewards[1]\n",
        "plt.plot(range(len(avg_rewards)), avg_rewards, label='Line Plot')\n",
        "plt.xlabel('episodes')\n",
        "plt.ylabel('avg reward')\n",
        "plt.title('average number of steps to the goal over last 100 episodes ')\n",
        "#legend\n",
        "plt.legend()\n",
        "plt.show()"
      ],
      "metadata": {
        "colab": {
          "base_uri": "https://localhost:8080/",
          "height": 472
        },
        "id": "f-4LNKTmkcXm",
        "outputId": "b6540b4a-b04e-41a1-c7c4-8ec62ca2d85b"
      },
      "execution_count": null,
      "outputs": [
        {
          "output_type": "display_data",
          "data": {
            "text/plain": [
              "<Figure size 640x480 with 1 Axes>"
            ],
            "image/png": "[encoded data removed]"
          },
          "metadata": {}
        }
      ]
    },
    {
      "cell_type": "markdown",
      "source": [
        "###MountainCar"
      ],
      "metadata": {
        "id": "YjzQ8nsKqeC8"
      }
    },
    {
      "cell_type": "code",
      "source": [
        "class ProgressiveActorCritic(nn.Module):\n",
        "    def __init__(self, env, source_models=[]):\n",
        "        super(ProgressiveActorCritic, self).__init__()\n",
        "        self.source_models = nn.ModuleList(source_models)  # List of source models (frozen)\n",
        "\n",
        "        # Calculate the total input dimension for the new layers\n",
        "        total_input_dim = env.observation_space.shape[0]\n",
        "        for model in source_models:\n",
        "            total_input_dim += model.fc2.out_features\n",
        "        print(total_input_dim)\n",
        "        print( env.action_space.n)\n",
        "        self.fc1_new = nn.Linear(48, 12)\n",
        "        self.fc2_new = nn.Linear(12, 24)\n",
        "        self.actor_new = nn.Linear(24, env.action_space.n)\n",
        "        self.critic_new = nn.Linear(24, 1)\n",
        "\n",
        "        self.saved_actions = []\n",
        "        self.rewards = []\n",
        "\n",
        "    def forward(self, x):\n",
        "        # print(\"Original input shape:\", x.shape)\n",
        "\n",
        "        # Pass input through source models (without backpropagating through them)\n",
        "        source_outputs = []\n",
        "        for model in self.source_models:\n",
        "            x_temp = F.relu(model.fc1(x))\n",
        "            x_temp = F.relu(model.fc2(x_temp))\n",
        "            source_outputs.append(x_temp)\n",
        "\n",
        "        # Concatenate the output of source networks with the input for the new layers\n",
        "        x_new = torch.cat((*source_outputs, x), dim=1)\n",
        "        # print(\"Concatenated input shape:\", x_new.shape)\n",
        "\n",
        "        # Forward pass through the new layers\n",
        "        x_new = F.relu(self.fc1_new(x_new))\n",
        "        x_new = F.relu(self.fc2_new(x_new))\n",
        "        action_prob_new = F.softmax(self.actor_new(x_new), dim=-1)\n",
        "        state_values_new = self.critic_new(x_new)\n",
        "\n",
        "        return action_prob_new, state_values_new\n",
        "\n",
        "\n",
        "\n",
        "def select_action(model, state, epsilon):\n",
        "    if np.random.rand() < epsilon:\n",
        "        return random.randrange(3)\n",
        "    state = torch.from_numpy(state).float().unsqueeze(0)  # Add a batch dimension\n",
        "    probs, state_value = model(state)\n",
        "    probs_copy = probs.clone()  # Make a copy of the tensor\n",
        "    m = Categorical(probs_copy)\n",
        "    action = m.sample()\n",
        "    model.saved_actions.append((m.log_prob(action), state_value))\n",
        "    return action.item()\n",
        "\n",
        "def finish_episode():\n",
        "    R = 0\n",
        "    saved_actions = model3.saved_actions\n",
        "    policy_losses = []\n",
        "    value_losses = []\n",
        "    returns = []\n",
        "\n",
        "    for r in model3.rewards[::-1]:\n",
        "        R = r + 0.99 * R  # 0.99 is our gamma\n",
        "        returns.insert(0, R)\n",
        "    returns = torch.tensor(returns, dtype=torch.float32, requires_grad=True)\n",
        "    returns = (returns - returns.mean()) / (returns.std() + eps)\n",
        "\n",
        "    for (log_prob, value), R in zip(saved_actions, returns):\n",
        "        advantage = R - value.item()\n",
        "\n",
        "        policy_losses.append(-log_prob * advantage)\n",
        "        value_losses.append(F.smooth_l1_loss(value, torch.tensor([R])))\n",
        "\n",
        "    optimizer.zero_grad()\n",
        "    loss = torch.stack(policy_losses).sum() + torch.stack(value_losses).sum()\n",
        "\n",
        "    loss.backward()\n",
        "    optimizer.step()\n",
        "\n",
        "    del model3.rewards[:]\n",
        "    del model3.saved_actions[:]\n",
        "\n",
        "\n",
        "def train(model3, env):\n",
        "    print(\"In train\")\n",
        "    epsilon = 0.99\n",
        "    rewards = []\n",
        "    avg_rewards = []\n",
        "    min_p = 0\n",
        "    max_p = -1.2\n",
        "    running_reward = 0\n",
        "    for i_episode in range(5000):  # it converges there\n",
        "        state = env.reset()\n",
        "        ep_reward = 0\n",
        "        real_reward_sum = 0  # Variable to store the sum of real rewards\n",
        "        for t in range(1, 1001):\n",
        "            state_tensor = pad_state2(state, 6)\n",
        "            action = select_action(model3, state_tensor, epsilon)\n",
        "            epsilon *= 0.99\n",
        "            next_state, real_reward, done, _ = env.step(action)  # Store the real reward\n",
        "            real_reward_sum += real_reward  # Accumulate real rewards\n",
        "            position, velocity = next_state[0], next_state[1]\n",
        "            position_reward = 0\n",
        "            if position < -0.65:\n",
        "                position_reward += abs(-0.5 - position) * 2\n",
        "            if position > -0.35:\n",
        "                position_reward += abs(-0.5 - position) * 4\n",
        "            velocity_reward = 0\n",
        "            velocity_reward += (abs(velocity) / 0.07) * 5\n",
        "\n",
        "            neg_reward = 0\n",
        "            if velocity < 0 and (action == 2 or action == 1):\n",
        "                neg_reward -= (abs(velocity) / 0.07) * 5\n",
        "            if velocity > 0 and (action == 0 or action == 1):\n",
        "                neg_reward -= (abs(velocity) / 0.07) * 5\n",
        "            if position < min_p:\n",
        "                min_p = position\n",
        "            if position > max_p:\n",
        "                max_p = position\n",
        "            adjusted_reward = real_reward + position_reward + velocity_reward + neg_reward  # Adjusted reward\n",
        "\n",
        "            model3.rewards.append(adjusted_reward)\n",
        "            ep_reward += adjusted_reward\n",
        "            state = next_state  # Update the state\n",
        "            if done:\n",
        "                break\n",
        "        rewards.append(ep_reward)\n",
        "        if i_episode >= 100:\n",
        "            running_reward = np.mean(rewards[-100:])\n",
        "        avg_rewards.append(running_reward)\n",
        "        finish_episode()\n",
        "        if i_episode % 50 == 0:  # We will print some things out\n",
        "            print(\"Episode {}\\tLast Real Reward: {:.2f}\\tAverage reward_per_100_epochs: {:.2f}\".format(\n",
        "                i_episode, real_reward_sum, running_reward\n",
        "            ))\n",
        "    return rewards, avg_rewards\n",
        "\n",
        "\n"
      ],
      "metadata": {
        "id": "7H7gV6LXqdis"
      },
      "execution_count": null,
      "outputs": []
    },
    {
      "cell_type": "code",
      "source": [
        "env_mountaincar = gym.make('MountainCar-v0')\n",
        "model3 = ProgressiveActorCritic(env_mountaincar, [model, model2])\n",
        "\n",
        "optimizer = optim.Adam(model3.parameters(), lr=6e-3)\n",
        "eps = np.finfo(np.float32).eps.item()\n",
        "print(\"Before\")\n",
        "rewards = train(model3,env_mountaincar)\n"
      ],
      "metadata": {
        "colab": {
          "base_uri": "https://localhost:8080/"
        },
        "id": "Es5XaNC2vI75",
        "outputId": "bd2f7dd7-7688-4188-e936-649cfbe08ab8"
      },
      "execution_count": null,
      "outputs": [
        {
          "output_type": "stream",
          "name": "stdout",
          "text": [
            "44\n",
            "3\n",
            "Before\n",
            "In train\n",
            "Episode 0\tLast Real Reward: -200.00\tAverage reward_per_100_epochs: 0.00\n"
          ]
        },
        {
          "output_type": "stream",
          "name": "stderr",
          "text": [
            "<ipython-input-19-4ea0f6df248b>:72: UserWarning: Using a target size (torch.Size([1])) that is different to the input size (torch.Size([1, 1])). This will likely lead to incorrect results due to broadcasting. Please ensure they have the same size.\n",
            "  value_losses.append(F.smooth_l1_loss(value, torch.tensor([R])))\n"
          ]
        },
        {
          "output_type": "stream",
          "name": "stdout",
          "text": [
            "Episode 50\tLast Real Reward: -200.00\tAverage reward_per_100_epochs: 0.00\n",
            "Episode 100\tLast Real Reward: -200.00\tAverage reward_per_100_epochs: -160.58\n",
            "Episode 150\tLast Real Reward: -200.00\tAverage reward_per_100_epochs: -156.73\n",
            "Episode 200\tLast Real Reward: -200.00\tAverage reward_per_100_epochs: -155.72\n",
            "Episode 250\tLast Real Reward: -200.00\tAverage reward_per_100_epochs: -153.86\n",
            "Episode 300\tLast Real Reward: -200.00\tAverage reward_per_100_epochs: -153.35\n",
            "Episode 350\tLast Real Reward: -200.00\tAverage reward_per_100_epochs: -145.04\n",
            "Episode 400\tLast Real Reward: -200.00\tAverage reward_per_100_epochs: -142.30\n",
            "Episode 450\tLast Real Reward: -200.00\tAverage reward_per_100_epochs: -136.35\n",
            "Episode 500\tLast Real Reward: -200.00\tAverage reward_per_100_epochs: -133.23\n",
            "Episode 550\tLast Real Reward: -200.00\tAverage reward_per_100_epochs: -141.18\n",
            "Episode 600\tLast Real Reward: -200.00\tAverage reward_per_100_epochs: -138.47\n",
            "Episode 650\tLast Real Reward: -200.00\tAverage reward_per_100_epochs: -135.58\n",
            "Episode 700\tLast Real Reward: -200.00\tAverage reward_per_100_epochs: -122.13\n",
            "Episode 750\tLast Real Reward: -200.00\tAverage reward_per_100_epochs: -103.37\n",
            "Episode 800\tLast Real Reward: -200.00\tAverage reward_per_100_epochs: -98.62\n",
            "Episode 850\tLast Real Reward: -200.00\tAverage reward_per_100_epochs: -98.16\n",
            "Episode 900\tLast Real Reward: -200.00\tAverage reward_per_100_epochs: -90.21\n",
            "Episode 950\tLast Real Reward: -200.00\tAverage reward_per_100_epochs: -83.91\n",
            "Episode 1000\tLast Real Reward: -200.00\tAverage reward_per_100_epochs: -81.04\n",
            "Episode 1050\tLast Real Reward: -200.00\tAverage reward_per_100_epochs: -82.60\n",
            "Episode 1100\tLast Real Reward: -200.00\tAverage reward_per_100_epochs: -87.35\n",
            "Episode 1150\tLast Real Reward: -200.00\tAverage reward_per_100_epochs: -77.96\n",
            "Episode 1200\tLast Real Reward: -200.00\tAverage reward_per_100_epochs: -70.56\n",
            "Episode 1250\tLast Real Reward: -200.00\tAverage reward_per_100_epochs: -75.61\n",
            "Episode 1300\tLast Real Reward: -200.00\tAverage reward_per_100_epochs: -83.09\n",
            "Episode 1350\tLast Real Reward: -200.00\tAverage reward_per_100_epochs: -68.65\n",
            "Episode 1400\tLast Real Reward: -200.00\tAverage reward_per_100_epochs: -56.39\n",
            "Episode 1450\tLast Real Reward: -200.00\tAverage reward_per_100_epochs: -63.14\n",
            "Episode 1500\tLast Real Reward: -200.00\tAverage reward_per_100_epochs: -57.72\n",
            "Episode 1550\tLast Real Reward: -200.00\tAverage reward_per_100_epochs: -11.56\n",
            "Episode 1600\tLast Real Reward: -154.00\tAverage reward_per_100_epochs: 67.32\n",
            "Episode 1650\tLast Real Reward: -149.00\tAverage reward_per_100_epochs: 159.53\n",
            "Episode 1700\tLast Real Reward: -158.00\tAverage reward_per_100_epochs: 218.36\n",
            "Episode 1750\tLast Real Reward: -158.00\tAverage reward_per_100_epochs: 243.26\n",
            "Episode 1800\tLast Real Reward: -149.00\tAverage reward_per_100_epochs: 260.27\n",
            "Episode 1850\tLast Real Reward: -156.00\tAverage reward_per_100_epochs: 267.35\n",
            "Episode 1900\tLast Real Reward: -158.00\tAverage reward_per_100_epochs: 275.87\n",
            "Episode 1950\tLast Real Reward: -161.00\tAverage reward_per_100_epochs: 276.16\n",
            "Episode 2000\tLast Real Reward: -151.00\tAverage reward_per_100_epochs: 284.32\n",
            "Episode 2050\tLast Real Reward: -147.00\tAverage reward_per_100_epochs: 287.98\n",
            "Episode 2100\tLast Real Reward: -150.00\tAverage reward_per_100_epochs: 286.99\n",
            "Episode 2150\tLast Real Reward: -155.00\tAverage reward_per_100_epochs: 287.85\n",
            "Episode 2200\tLast Real Reward: -147.00\tAverage reward_per_100_epochs: 284.96\n",
            "Episode 2250\tLast Real Reward: -155.00\tAverage reward_per_100_epochs: 285.50\n",
            "Episode 2300\tLast Real Reward: -147.00\tAverage reward_per_100_epochs: 284.01\n",
            "Episode 2350\tLast Real Reward: -151.00\tAverage reward_per_100_epochs: 282.88\n",
            "Episode 2400\tLast Real Reward: -143.00\tAverage reward_per_100_epochs: 240.15\n",
            "Episode 2450\tLast Real Reward: -146.00\tAverage reward_per_100_epochs: 244.08\n",
            "Episode 2500\tLast Real Reward: -162.00\tAverage reward_per_100_epochs: 279.90\n",
            "Episode 2550\tLast Real Reward: -156.00\tAverage reward_per_100_epochs: 272.52\n",
            "Episode 2600\tLast Real Reward: -153.00\tAverage reward_per_100_epochs: 281.71\n",
            "Episode 2650\tLast Real Reward: -146.00\tAverage reward_per_100_epochs: 287.51\n",
            "Episode 2700\tLast Real Reward: -150.00\tAverage reward_per_100_epochs: 296.27\n",
            "Episode 2750\tLast Real Reward: -147.00\tAverage reward_per_100_epochs: 296.80\n",
            "Episode 2800\tLast Real Reward: -156.00\tAverage reward_per_100_epochs: 284.21\n",
            "Episode 2850\tLast Real Reward: -146.00\tAverage reward_per_100_epochs: 283.76\n",
            "Episode 2900\tLast Real Reward: -155.00\tAverage reward_per_100_epochs: 285.37\n",
            "Episode 2950\tLast Real Reward: -148.00\tAverage reward_per_100_epochs: 285.89\n",
            "Episode 3000\tLast Real Reward: -152.00\tAverage reward_per_100_epochs: 287.17\n",
            "Episode 3050\tLast Real Reward: -151.00\tAverage reward_per_100_epochs: 283.44\n",
            "Episode 3100\tLast Real Reward: -147.00\tAverage reward_per_100_epochs: 285.37\n",
            "Episode 3150\tLast Real Reward: -153.00\tAverage reward_per_100_epochs: 291.94\n",
            "Episode 3200\tLast Real Reward: -152.00\tAverage reward_per_100_epochs: 295.96\n",
            "Episode 3250\tLast Real Reward: -151.00\tAverage reward_per_100_epochs: 291.70\n",
            "Episode 3300\tLast Real Reward: -154.00\tAverage reward_per_100_epochs: 287.18\n",
            "Episode 3350\tLast Real Reward: -156.00\tAverage reward_per_100_epochs: 288.14\n",
            "Episode 3400\tLast Real Reward: -150.00\tAverage reward_per_100_epochs: 288.79\n",
            "Episode 3450\tLast Real Reward: -146.00\tAverage reward_per_100_epochs: 288.95\n",
            "Episode 3500\tLast Real Reward: -153.00\tAverage reward_per_100_epochs: 294.89\n",
            "Episode 3550\tLast Real Reward: -144.00\tAverage reward_per_100_epochs: 297.68\n",
            "Episode 3600\tLast Real Reward: -152.00\tAverage reward_per_100_epochs: 293.97\n",
            "Episode 3650\tLast Real Reward: -154.00\tAverage reward_per_100_epochs: 293.01\n",
            "Episode 3700\tLast Real Reward: -151.00\tAverage reward_per_100_epochs: 294.14\n",
            "Episode 3750\tLast Real Reward: -200.00\tAverage reward_per_100_epochs: 295.38\n",
            "Episode 3800\tLast Real Reward: -200.00\tAverage reward_per_100_epochs: 324.62\n",
            "Episode 3850\tLast Real Reward: -200.00\tAverage reward_per_100_epochs: 359.11\n",
            "Episode 3900\tLast Real Reward: -200.00\tAverage reward_per_100_epochs: 354.56\n",
            "Episode 3950\tLast Real Reward: -200.00\tAverage reward_per_100_epochs: 287.96\n",
            "Episode 4000\tLast Real Reward: -200.00\tAverage reward_per_100_epochs: 275.31\n",
            "Episode 4050\tLast Real Reward: -200.00\tAverage reward_per_100_epochs: 352.46\n",
            "Episode 4100\tLast Real Reward: -200.00\tAverage reward_per_100_epochs: 386.90\n",
            "Episode 4150\tLast Real Reward: -200.00\tAverage reward_per_100_epochs: 391.77\n",
            "Episode 4200\tLast Real Reward: -149.00\tAverage reward_per_100_epochs: 387.21\n",
            "Episode 4250\tLast Real Reward: -200.00\tAverage reward_per_100_epochs: 380.56\n",
            "Episode 4300\tLast Real Reward: -153.00\tAverage reward_per_100_epochs: 381.79\n",
            "Episode 4350\tLast Real Reward: -200.00\tAverage reward_per_100_epochs: 394.06\n",
            "Episode 4400\tLast Real Reward: -200.00\tAverage reward_per_100_epochs: 400.76\n",
            "Episode 4450\tLast Real Reward: -200.00\tAverage reward_per_100_epochs: 391.90\n",
            "Episode 4500\tLast Real Reward: -200.00\tAverage reward_per_100_epochs: 394.02\n",
            "Episode 4550\tLast Real Reward: -200.00\tAverage reward_per_100_epochs: 397.81\n",
            "Episode 4600\tLast Real Reward: -200.00\tAverage reward_per_100_epochs: 398.42\n",
            "Episode 4650\tLast Real Reward: -200.00\tAverage reward_per_100_epochs: 398.03\n",
            "Episode 4700\tLast Real Reward: -200.00\tAverage reward_per_100_epochs: 377.48\n",
            "Episode 4750\tLast Real Reward: -200.00\tAverage reward_per_100_epochs: 384.71\n",
            "Episode 4800\tLast Real Reward: -200.00\tAverage reward_per_100_epochs: 413.43\n",
            "Episode 4850\tLast Real Reward: -200.00\tAverage reward_per_100_epochs: 420.88\n",
            "Episode 4900\tLast Real Reward: -200.00\tAverage reward_per_100_epochs: 425.05\n",
            "Episode 4950\tLast Real Reward: -200.00\tAverage reward_per_100_epochs: 389.34\n"
          ]
        }
      ]
    },
    {
      "cell_type": "code",
      "source": [
        "avg_rewards=rewards[1]\n",
        "plt.plot(range(len(avg_rewards)), avg_rewards, label='Line Plot')\n",
        "plt.xlabel('episodes')\n",
        "plt.ylabel('avg reward')\n",
        "plt.title('average number of steps to the goal over last 100 episodes ')\n",
        "#legend\n",
        "plt.legend()\n",
        "plt.show()"
      ],
      "metadata": {
        "colab": {
          "base_uri": "https://localhost:8080/",
          "height": 472
        },
        "id": "7p1dzbX-tzvh",
        "outputId": "256206ce-928b-4620-999a-80e49dd2f136"
      },
      "execution_count": null,
      "outputs": [
        {
          "output_type": "display_data",
          "data": {
            "text/plain": [
              "<Figure size 640x480 with 1 Axes>"
            ],
            "image/png": "[encoded data removed]"
          },
          "metadata": {}
        }
      ]
    },
    {
      "cell_type": "code",
      "source": [],
      "metadata": {
        "id": "D3X2X0kCwTLM"
      },
      "execution_count": null,
      "outputs": []
    }
  ],
  "metadata": {
    "colab": {
      "provenance": [],
      "toc_visible": true,
      "gpuType": "T4",
      "collapsed_sections": [
        "T1jPkhoZyl-X",
        "uBirAhEAeJN4",
        "mNkXLkKleMsx"
      ]
    },
    "kernelspec": {
      "display_name": "Python 3",
      "name": "python3"
    },
    "language_info": {
      "name": "python"
    },
    "accelerator": "GPU"
  },
  "nbformat": 4,
  "nbformat_minor": 0
}